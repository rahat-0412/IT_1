{
 "cells": [
  {
   "cell_type": "markdown",
   "id": "fe2f58db",
   "metadata": {},
   "source": [
    "# File Handling"
   ]
  },
  {
   "cell_type": "code",
   "execution_count": 3,
   "id": "d30c6832",
   "metadata": {},
   "outputs": [
    {
     "ename": "FileNotFoundError",
     "evalue": "[Errno 2] No such file or directory: 'mbox.txt'",
     "output_type": "error",
     "traceback": [
      "\u001b[1;31m---------------------------------------------------------------------------\u001b[0m",
      "\u001b[1;31mFileNotFoundError\u001b[0m                         Traceback (most recent call last)",
      "Cell \u001b[1;32mIn[3], line 4\u001b[0m\n\u001b[0;32m      1\u001b[0m \u001b[38;5;66;03m# Open a file named 'mbox.txt' in the default read ('r') mode.\u001b[39;00m\n\u001b[0;32m      2\u001b[0m \u001b[38;5;66;03m# If the file is not in the same directory as your Python script,\u001b[39;00m\n\u001b[0;32m      3\u001b[0m \u001b[38;5;66;03m# you should provide the full path to the file.\u001b[39;00m\n\u001b[1;32m----> 4\u001b[0m fhand \u001b[38;5;241m=\u001b[39m \u001b[38;5;28mopen\u001b[39m(\u001b[38;5;124m'\u001b[39m\u001b[38;5;124mmbox.txt\u001b[39m\u001b[38;5;124m'\u001b[39m)\n\u001b[0;32m      6\u001b[0m \u001b[38;5;66;03m# Print the value of the 'fhand' variable.\u001b[39;00m\n\u001b[0;32m      7\u001b[0m \u001b[38;5;66;03m# This will not print the contents of the file but will show you\u001b[39;00m\n\u001b[0;32m      8\u001b[0m \u001b[38;5;66;03m# information about the file object, such as its type and memory address.\u001b[39;00m\n\u001b[0;32m      9\u001b[0m \u001b[38;5;66;03m# It will look something like this: <_io.TextIOWrapper name='mbox.txt' mode='r' encoding='UTF-8'>\u001b[39;00m\n\u001b[0;32m     10\u001b[0m \u001b[38;5;28mprint\u001b[39m(fhand)\n",
      "File \u001b[1;32m~\\anaconda3\\Lib\\site-packages\\IPython\\core\\interactiveshell.py:284\u001b[0m, in \u001b[0;36m_modified_open\u001b[1;34m(file, *args, **kwargs)\u001b[0m\n\u001b[0;32m    277\u001b[0m \u001b[38;5;28;01mif\u001b[39;00m file \u001b[38;5;129;01min\u001b[39;00m {\u001b[38;5;241m0\u001b[39m, \u001b[38;5;241m1\u001b[39m, \u001b[38;5;241m2\u001b[39m}:\n\u001b[0;32m    278\u001b[0m     \u001b[38;5;28;01mraise\u001b[39;00m \u001b[38;5;167;01mValueError\u001b[39;00m(\n\u001b[0;32m    279\u001b[0m         \u001b[38;5;124mf\u001b[39m\u001b[38;5;124m\"\u001b[39m\u001b[38;5;124mIPython won\u001b[39m\u001b[38;5;124m'\u001b[39m\u001b[38;5;124mt let you open fd=\u001b[39m\u001b[38;5;132;01m{\u001b[39;00mfile\u001b[38;5;132;01m}\u001b[39;00m\u001b[38;5;124m by default \u001b[39m\u001b[38;5;124m\"\u001b[39m\n\u001b[0;32m    280\u001b[0m         \u001b[38;5;124m\"\u001b[39m\u001b[38;5;124mas it is likely to crash IPython. If you know what you are doing, \u001b[39m\u001b[38;5;124m\"\u001b[39m\n\u001b[0;32m    281\u001b[0m         \u001b[38;5;124m\"\u001b[39m\u001b[38;5;124myou can use builtins\u001b[39m\u001b[38;5;124m'\u001b[39m\u001b[38;5;124m open.\u001b[39m\u001b[38;5;124m\"\u001b[39m\n\u001b[0;32m    282\u001b[0m     )\n\u001b[1;32m--> 284\u001b[0m \u001b[38;5;28;01mreturn\u001b[39;00m io_open(file, \u001b[38;5;241m*\u001b[39margs, \u001b[38;5;241m*\u001b[39m\u001b[38;5;241m*\u001b[39mkwargs)\n",
      "\u001b[1;31mFileNotFoundError\u001b[0m: [Errno 2] No such file or directory: 'mbox.txt'"
     ]
    }
   ],
   "source": [
    "# Open a file named 'mbox.txt' in the default read ('r') mode.\n",
    "# If the file is not in the same directory as your Python script,\n",
    "# you should provide the full path to the file.\n",
    "fhand = open('mbox.txt')\n",
    "\n",
    "# Print the value of the 'fhand' variable.\n",
    "# This will not print the contents of the file but will show you\n",
    "# information about the file object, such as its type and memory address.\n",
    "# It will look something like this: <_io.TextIOWrapper name='mbox.txt' mode='r' encoding='UTF-8'>\n",
    "print(fhand)\n",
    "\n",
    "# It's important to note that this code only opens the file for reading.\n",
    "# If you want to read the contents of the file, you'll need to use\n",
    "# further code to read and process the lines within the file.\n"
   ]
  },
  {
   "cell_type": "markdown",
   "id": "f42e746d",
   "metadata": {},
   "source": [
    "# New Line Character"
   ]
  },
  {
   "cell_type": "code",
   "execution_count": 4,
   "id": "3685d7fc",
   "metadata": {},
   "outputs": [
    {
     "name": "stdout",
     "output_type": "stream",
     "text": [
      "Hello\n",
      "World!\n",
      "X\n",
      "Y\n",
      "3\n"
     ]
    }
   ],
   "source": [
    "# Assign a string 'Hello\\nWorld!' to the variable 'stuff'.\n",
    "# The string contains two lines separated by the '\\n' character.\n",
    "stuff = 'Hello\\nWorld!'\n",
    "\n",
    "# When you print the 'stuff' variable, it displays the string as is,\n",
    "# including the newline character, which moves to a new line.\n",
    "print(stuff)\n",
    "# Output:\n",
    "# Hello\n",
    "# World!\n",
    "\n",
    "# You can see that the string 'Hello\\nWorld!' was printed as two lines.\n",
    "\n",
    "# Reassign the variable 'stuff' with the string 'X\\nY'.\n",
    "stuff = 'X\\nY'\n",
    "\n",
    "# When you print 'stuff' again, it displays the string as is,\n",
    "# with the newline character separating the two letters 'X' and 'Y'.\n",
    "print(stuff)\n",
    "# Output:\n",
    "# X\n",
    "# Y\n",
    "\n",
    "# The 'len()' function returns the length of the string 'stuff',\n",
    "# which is 3 characters ('X', '\\n', and 'Y').\n",
    "length = len(stuff)\n",
    "print(length)\n",
    "# Output: 3\n"
   ]
  },
  {
   "cell_type": "markdown",
   "id": "6ab32c97",
   "metadata": {},
   "source": [
    "# FileHandleas Sequence"
   ]
  },
  {
   "cell_type": "code",
   "execution_count": 5,
   "id": "3e6489ef",
   "metadata": {
    "scrolled": true
   },
   "outputs": [
    {
     "ename": "FileNotFoundError",
     "evalue": "[Errno 2] No such file or directory: 'mbox.txt'",
     "output_type": "error",
     "traceback": [
      "\u001b[1;31m---------------------------------------------------------------------------\u001b[0m",
      "\u001b[1;31mFileNotFoundError\u001b[0m                         Traceback (most recent call last)",
      "Cell \u001b[1;32mIn[5], line 4\u001b[0m\n\u001b[0;32m      1\u001b[0m \u001b[38;5;66;03m# Open the file 'mbox.txt' in read ('r') mode.\u001b[39;00m\n\u001b[0;32m      2\u001b[0m \u001b[38;5;66;03m# If the file is not in the same directory as your Python script,\u001b[39;00m\n\u001b[0;32m      3\u001b[0m \u001b[38;5;66;03m# provide the full path to the file.\u001b[39;00m\n\u001b[1;32m----> 4\u001b[0m xfile \u001b[38;5;241m=\u001b[39m \u001b[38;5;28mopen\u001b[39m(\u001b[38;5;124m'\u001b[39m\u001b[38;5;124mmbox.txt\u001b[39m\u001b[38;5;124m'\u001b[39m)\n\u001b[0;32m      6\u001b[0m \u001b[38;5;66;03m# Iterate through each line in the file.\u001b[39;00m\n\u001b[0;32m      7\u001b[0m \u001b[38;5;66;03m# The 'for' loop reads one line at a time from the file.\u001b[39;00m\n\u001b[0;32m      8\u001b[0m \u001b[38;5;28;01mfor\u001b[39;00m cheese \u001b[38;5;129;01min\u001b[39;00m xfile:\n\u001b[0;32m      9\u001b[0m     \u001b[38;5;66;03m# Print each line as it is read from the file.\u001b[39;00m\n",
      "File \u001b[1;32m~\\anaconda3\\Lib\\site-packages\\IPython\\core\\interactiveshell.py:284\u001b[0m, in \u001b[0;36m_modified_open\u001b[1;34m(file, *args, **kwargs)\u001b[0m\n\u001b[0;32m    277\u001b[0m \u001b[38;5;28;01mif\u001b[39;00m file \u001b[38;5;129;01min\u001b[39;00m {\u001b[38;5;241m0\u001b[39m, \u001b[38;5;241m1\u001b[39m, \u001b[38;5;241m2\u001b[39m}:\n\u001b[0;32m    278\u001b[0m     \u001b[38;5;28;01mraise\u001b[39;00m \u001b[38;5;167;01mValueError\u001b[39;00m(\n\u001b[0;32m    279\u001b[0m         \u001b[38;5;124mf\u001b[39m\u001b[38;5;124m\"\u001b[39m\u001b[38;5;124mIPython won\u001b[39m\u001b[38;5;124m'\u001b[39m\u001b[38;5;124mt let you open fd=\u001b[39m\u001b[38;5;132;01m{\u001b[39;00mfile\u001b[38;5;132;01m}\u001b[39;00m\u001b[38;5;124m by default \u001b[39m\u001b[38;5;124m\"\u001b[39m\n\u001b[0;32m    280\u001b[0m         \u001b[38;5;124m\"\u001b[39m\u001b[38;5;124mas it is likely to crash IPython. If you know what you are doing, \u001b[39m\u001b[38;5;124m\"\u001b[39m\n\u001b[0;32m    281\u001b[0m         \u001b[38;5;124m\"\u001b[39m\u001b[38;5;124myou can use builtins\u001b[39m\u001b[38;5;124m'\u001b[39m\u001b[38;5;124m open.\u001b[39m\u001b[38;5;124m\"\u001b[39m\n\u001b[0;32m    282\u001b[0m     )\n\u001b[1;32m--> 284\u001b[0m \u001b[38;5;28;01mreturn\u001b[39;00m io_open(file, \u001b[38;5;241m*\u001b[39margs, \u001b[38;5;241m*\u001b[39m\u001b[38;5;241m*\u001b[39mkwargs)\n",
      "\u001b[1;31mFileNotFoundError\u001b[0m: [Errno 2] No such file or directory: 'mbox.txt'"
     ]
    }
   ],
   "source": [
    "# Open the file 'mbox.txt' in read ('r') mode.\n",
    "# If the file is not in the same directory as your Python script,\n",
    "# provide the full path to the file.\n",
    "xfile = open('mbox.txt')\n",
    "\n",
    "# Iterate through each line in the file.\n",
    "# The 'for' loop reads one line at a time from the file.\n",
    "for cheese in xfile:\n",
    "    # Print each line as it is read from the file.\n",
    "    print(cheese)\n",
    "\n",
    "# After the loop completes, the file is automatically closed.\n",
    "# It's a good practice to use a 'with' statement for file handling,\n",
    "# which ensures that the file is closed properly, even if an error occurs.\n"
   ]
  },
  {
   "cell_type": "markdown",
   "id": "83f6d123",
   "metadata": {},
   "source": [
    "# Counting Lines"
   ]
  },
  {
   "cell_type": "code",
   "execution_count": 8,
   "id": "ed9332ab",
   "metadata": {},
   "outputs": [
    {
     "ename": "FileNotFoundError",
     "evalue": "[Errno 2] No such file or directory: 'mbox.txt'",
     "output_type": "error",
     "traceback": [
      "\u001b[1;31m---------------------------------------------------------------------------\u001b[0m",
      "\u001b[1;31mFileNotFoundError\u001b[0m                         Traceback (most recent call last)",
      "Cell \u001b[1;32mIn[8], line 4\u001b[0m\n\u001b[0;32m      1\u001b[0m \u001b[38;5;66;03m# Open the file 'mbox.txt' in read ('r') mode.\u001b[39;00m\n\u001b[0;32m      2\u001b[0m \u001b[38;5;66;03m# If the file is not in the same directory as your Python script,\u001b[39;00m\n\u001b[0;32m      3\u001b[0m \u001b[38;5;66;03m# provide the full path to the file.\u001b[39;00m\n\u001b[1;32m----> 4\u001b[0m fhand \u001b[38;5;241m=\u001b[39m \u001b[38;5;28mopen\u001b[39m(\u001b[38;5;124m'\u001b[39m\u001b[38;5;124mmbox.txt\u001b[39m\u001b[38;5;124m'\u001b[39m)\n\u001b[0;32m      6\u001b[0m \u001b[38;5;66;03m# Initialize a count variable to keep track of the number of lines.\u001b[39;00m\n\u001b[0;32m      7\u001b[0m count \u001b[38;5;241m=\u001b[39m \u001b[38;5;241m0\u001b[39m\n",
      "File \u001b[1;32m~\\anaconda3\\Lib\\site-packages\\IPython\\core\\interactiveshell.py:284\u001b[0m, in \u001b[0;36m_modified_open\u001b[1;34m(file, *args, **kwargs)\u001b[0m\n\u001b[0;32m    277\u001b[0m \u001b[38;5;28;01mif\u001b[39;00m file \u001b[38;5;129;01min\u001b[39;00m {\u001b[38;5;241m0\u001b[39m, \u001b[38;5;241m1\u001b[39m, \u001b[38;5;241m2\u001b[39m}:\n\u001b[0;32m    278\u001b[0m     \u001b[38;5;28;01mraise\u001b[39;00m \u001b[38;5;167;01mValueError\u001b[39;00m(\n\u001b[0;32m    279\u001b[0m         \u001b[38;5;124mf\u001b[39m\u001b[38;5;124m\"\u001b[39m\u001b[38;5;124mIPython won\u001b[39m\u001b[38;5;124m'\u001b[39m\u001b[38;5;124mt let you open fd=\u001b[39m\u001b[38;5;132;01m{\u001b[39;00mfile\u001b[38;5;132;01m}\u001b[39;00m\u001b[38;5;124m by default \u001b[39m\u001b[38;5;124m\"\u001b[39m\n\u001b[0;32m    280\u001b[0m         \u001b[38;5;124m\"\u001b[39m\u001b[38;5;124mas it is likely to crash IPython. If you know what you are doing, \u001b[39m\u001b[38;5;124m\"\u001b[39m\n\u001b[0;32m    281\u001b[0m         \u001b[38;5;124m\"\u001b[39m\u001b[38;5;124myou can use builtins\u001b[39m\u001b[38;5;124m'\u001b[39m\u001b[38;5;124m open.\u001b[39m\u001b[38;5;124m\"\u001b[39m\n\u001b[0;32m    282\u001b[0m     )\n\u001b[1;32m--> 284\u001b[0m \u001b[38;5;28;01mreturn\u001b[39;00m io_open(file, \u001b[38;5;241m*\u001b[39margs, \u001b[38;5;241m*\u001b[39m\u001b[38;5;241m*\u001b[39mkwargs)\n",
      "\u001b[1;31mFileNotFoundError\u001b[0m: [Errno 2] No such file or directory: 'mbox.txt'"
     ]
    }
   ],
   "source": [
    " # Open the file 'mbox.txt' in read ('r') mode.\n",
    "# If the file is not in the same directory as your Python script,\n",
    "# provide the full path to the file.\n",
    "fhand = open('mbox.txt')\n",
    "\n",
    "# Initialize a count variable to keep track of the number of lines.\n",
    "count = 0\n",
    "\n",
    "# Iterate through each line in the file.\n",
    "# The 'for' loop reads one line at a time from the file.\n",
    "for line in fhand:\n",
    "    # Increment the count for each line read.\n",
    "    count = count + 1\n",
    "\n",
    "# After the loop completes, the file is automatically closed.\n",
    "# It's a good practice to use a 'with' statement for file handling,\n",
    "# which ensures that the file is closed properly, even if an error occurs.\n",
    "\n",
    "# Print the total line count.\n",
    "print('Line Count:', count)\n"
   ]
  },
  {
   "cell_type": "markdown",
   "id": "bb7b8c8b",
   "metadata": {},
   "source": [
    "# Reading wholeFile"
   ]
  },
  {
   "cell_type": "code",
   "execution_count": 9,
   "id": "e479d532",
   "metadata": {},
   "outputs": [
    {
     "ename": "FileNotFoundError",
     "evalue": "[Errno 2] No such file or directory: 'mbox-short.txt'",
     "output_type": "error",
     "traceback": [
      "\u001b[1;31m---------------------------------------------------------------------------\u001b[0m",
      "\u001b[1;31mFileNotFoundError\u001b[0m                         Traceback (most recent call last)",
      "Cell \u001b[1;32mIn[9], line 2\u001b[0m\n\u001b[0;32m      1\u001b[0m \u001b[38;5;66;03m# Open the file 'mbox-short.txt' in read ('r') mode.\u001b[39;00m\n\u001b[1;32m----> 2\u001b[0m fhand \u001b[38;5;241m=\u001b[39m \u001b[38;5;28mopen\u001b[39m(\u001b[38;5;124m'\u001b[39m\u001b[38;5;124mmbox-short.txt\u001b[39m\u001b[38;5;124m'\u001b[39m)\n\u001b[0;32m      4\u001b[0m \u001b[38;5;66;03m# Read the entire content of the file into the 'inp' variable.\u001b[39;00m\n\u001b[0;32m      5\u001b[0m inp \u001b[38;5;241m=\u001b[39m fhand\u001b[38;5;241m.\u001b[39mread()\n",
      "File \u001b[1;32m~\\anaconda3\\Lib\\site-packages\\IPython\\core\\interactiveshell.py:284\u001b[0m, in \u001b[0;36m_modified_open\u001b[1;34m(file, *args, **kwargs)\u001b[0m\n\u001b[0;32m    277\u001b[0m \u001b[38;5;28;01mif\u001b[39;00m file \u001b[38;5;129;01min\u001b[39;00m {\u001b[38;5;241m0\u001b[39m, \u001b[38;5;241m1\u001b[39m, \u001b[38;5;241m2\u001b[39m}:\n\u001b[0;32m    278\u001b[0m     \u001b[38;5;28;01mraise\u001b[39;00m \u001b[38;5;167;01mValueError\u001b[39;00m(\n\u001b[0;32m    279\u001b[0m         \u001b[38;5;124mf\u001b[39m\u001b[38;5;124m\"\u001b[39m\u001b[38;5;124mIPython won\u001b[39m\u001b[38;5;124m'\u001b[39m\u001b[38;5;124mt let you open fd=\u001b[39m\u001b[38;5;132;01m{\u001b[39;00mfile\u001b[38;5;132;01m}\u001b[39;00m\u001b[38;5;124m by default \u001b[39m\u001b[38;5;124m\"\u001b[39m\n\u001b[0;32m    280\u001b[0m         \u001b[38;5;124m\"\u001b[39m\u001b[38;5;124mas it is likely to crash IPython. If you know what you are doing, \u001b[39m\u001b[38;5;124m\"\u001b[39m\n\u001b[0;32m    281\u001b[0m         \u001b[38;5;124m\"\u001b[39m\u001b[38;5;124myou can use builtins\u001b[39m\u001b[38;5;124m'\u001b[39m\u001b[38;5;124m open.\u001b[39m\u001b[38;5;124m\"\u001b[39m\n\u001b[0;32m    282\u001b[0m     )\n\u001b[1;32m--> 284\u001b[0m \u001b[38;5;28;01mreturn\u001b[39;00m io_open(file, \u001b[38;5;241m*\u001b[39margs, \u001b[38;5;241m*\u001b[39m\u001b[38;5;241m*\u001b[39mkwargs)\n",
      "\u001b[1;31mFileNotFoundError\u001b[0m: [Errno 2] No such file or directory: 'mbox-short.txt'"
     ]
    }
   ],
   "source": [
    "# Open the file 'mbox-short.txt' in read ('r') mode.\n",
    "fhand = open('mbox-short.txt')\n",
    "\n",
    "# Read the entire content of the file into the 'inp' variable.\n",
    "inp = fhand.read()\n",
    "\n",
    "# Close the file. It's important to close the file explicitly after reading it.\n",
    "fhand.close()\n",
    "\n",
    "# Print the length (number of characters) of the file's content.\n",
    "print(len(inp))\n",
    "# Output: 94626 (the total number of characters in the file)\n",
    "\n",
    "# Print the first 20 characters of the file's content.\n",
    "print(inp[:20])\n",
    "# Output: \"From stephen.marquar\" (the first 20 characters of the file)\n"
   ]
  },
  {
   "cell_type": "markdown",
   "id": "3d4cc2b6",
   "metadata": {},
   "source": [
    "# Searching"
   ]
  },
  {
   "cell_type": "code",
   "execution_count": 10,
   "id": "4257287a",
   "metadata": {},
   "outputs": [
    {
     "ename": "FileNotFoundError",
     "evalue": "[Errno 2] No such file or directory: 'mbox-short.txt'",
     "output_type": "error",
     "traceback": [
      "\u001b[1;31m---------------------------------------------------------------------------\u001b[0m",
      "\u001b[1;31mFileNotFoundError\u001b[0m                         Traceback (most recent call last)",
      "Cell \u001b[1;32mIn[10], line 2\u001b[0m\n\u001b[0;32m      1\u001b[0m \u001b[38;5;66;03m# Open the file 'mbox-short.txt' in read ('r') mode.\u001b[39;00m\n\u001b[1;32m----> 2\u001b[0m fhand \u001b[38;5;241m=\u001b[39m \u001b[38;5;28mopen\u001b[39m(\u001b[38;5;124m'\u001b[39m\u001b[38;5;124mmbox-short.txt\u001b[39m\u001b[38;5;124m'\u001b[39m)\n\u001b[0;32m      4\u001b[0m \u001b[38;5;66;03m# Iterate through each line in the file.\u001b[39;00m\n\u001b[0;32m      5\u001b[0m \u001b[38;5;28;01mfor\u001b[39;00m line \u001b[38;5;129;01min\u001b[39;00m fhand:\n\u001b[0;32m      6\u001b[0m     \u001b[38;5;66;03m# Check if the line starts with 'From:' (including the colon).\u001b[39;00m\n",
      "File \u001b[1;32m~\\anaconda3\\Lib\\site-packages\\IPython\\core\\interactiveshell.py:284\u001b[0m, in \u001b[0;36m_modified_open\u001b[1;34m(file, *args, **kwargs)\u001b[0m\n\u001b[0;32m    277\u001b[0m \u001b[38;5;28;01mif\u001b[39;00m file \u001b[38;5;129;01min\u001b[39;00m {\u001b[38;5;241m0\u001b[39m, \u001b[38;5;241m1\u001b[39m, \u001b[38;5;241m2\u001b[39m}:\n\u001b[0;32m    278\u001b[0m     \u001b[38;5;28;01mraise\u001b[39;00m \u001b[38;5;167;01mValueError\u001b[39;00m(\n\u001b[0;32m    279\u001b[0m         \u001b[38;5;124mf\u001b[39m\u001b[38;5;124m\"\u001b[39m\u001b[38;5;124mIPython won\u001b[39m\u001b[38;5;124m'\u001b[39m\u001b[38;5;124mt let you open fd=\u001b[39m\u001b[38;5;132;01m{\u001b[39;00mfile\u001b[38;5;132;01m}\u001b[39;00m\u001b[38;5;124m by default \u001b[39m\u001b[38;5;124m\"\u001b[39m\n\u001b[0;32m    280\u001b[0m         \u001b[38;5;124m\"\u001b[39m\u001b[38;5;124mas it is likely to crash IPython. If you know what you are doing, \u001b[39m\u001b[38;5;124m\"\u001b[39m\n\u001b[0;32m    281\u001b[0m         \u001b[38;5;124m\"\u001b[39m\u001b[38;5;124myou can use builtins\u001b[39m\u001b[38;5;124m'\u001b[39m\u001b[38;5;124m open.\u001b[39m\u001b[38;5;124m\"\u001b[39m\n\u001b[0;32m    282\u001b[0m     )\n\u001b[1;32m--> 284\u001b[0m \u001b[38;5;28;01mreturn\u001b[39;00m io_open(file, \u001b[38;5;241m*\u001b[39margs, \u001b[38;5;241m*\u001b[39m\u001b[38;5;241m*\u001b[39mkwargs)\n",
      "\u001b[1;31mFileNotFoundError\u001b[0m: [Errno 2] No such file or directory: 'mbox-short.txt'"
     ]
    }
   ],
   "source": [
    "# Open the file 'mbox-short.txt' in read ('r') mode.\n",
    "fhand = open('mbox-short.txt')\n",
    "\n",
    "# Iterate through each line in the file.\n",
    "for line in fhand:\n",
    "    # Check if the line starts with 'From:' (including the colon).\n",
    "    if line.startswith('From:'):\n",
    "        # Print the lines that start with 'From:'.\n",
    "        print(line)\n",
    "\n",
    "# Close the file after processing.\n",
    "fhand.close()\n"
   ]
  },
  {
   "cell_type": "markdown",
   "id": "d7295d50",
   "metadata": {},
   "source": [
    "# Fixed Searching"
   ]
  },
  {
   "cell_type": "code",
   "execution_count": 11,
   "id": "606d4493",
   "metadata": {},
   "outputs": [
    {
     "ename": "FileNotFoundError",
     "evalue": "[Errno 2] No such file or directory: 'mbox-short.txt'",
     "output_type": "error",
     "traceback": [
      "\u001b[1;31m---------------------------------------------------------------------------\u001b[0m",
      "\u001b[1;31mFileNotFoundError\u001b[0m                         Traceback (most recent call last)",
      "Cell \u001b[1;32mIn[11], line 2\u001b[0m\n\u001b[0;32m      1\u001b[0m \u001b[38;5;66;03m# Open the file 'mbox-short.txt' in read ('r') mode.\u001b[39;00m\n\u001b[1;32m----> 2\u001b[0m fhand \u001b[38;5;241m=\u001b[39m \u001b[38;5;28mopen\u001b[39m(\u001b[38;5;124m'\u001b[39m\u001b[38;5;124mmbox-short.txt\u001b[39m\u001b[38;5;124m'\u001b[39m)\n\u001b[0;32m      4\u001b[0m \u001b[38;5;66;03m# Iterate through each line in the file.\u001b[39;00m\n\u001b[0;32m      5\u001b[0m \u001b[38;5;28;01mfor\u001b[39;00m line \u001b[38;5;129;01min\u001b[39;00m fhand:\n\u001b[0;32m      6\u001b[0m     \u001b[38;5;66;03m# Remove trailing whitespace (including the newline character) from the line.\u001b[39;00m\n",
      "File \u001b[1;32m~\\anaconda3\\Lib\\site-packages\\IPython\\core\\interactiveshell.py:284\u001b[0m, in \u001b[0;36m_modified_open\u001b[1;34m(file, *args, **kwargs)\u001b[0m\n\u001b[0;32m    277\u001b[0m \u001b[38;5;28;01mif\u001b[39;00m file \u001b[38;5;129;01min\u001b[39;00m {\u001b[38;5;241m0\u001b[39m, \u001b[38;5;241m1\u001b[39m, \u001b[38;5;241m2\u001b[39m}:\n\u001b[0;32m    278\u001b[0m     \u001b[38;5;28;01mraise\u001b[39;00m \u001b[38;5;167;01mValueError\u001b[39;00m(\n\u001b[0;32m    279\u001b[0m         \u001b[38;5;124mf\u001b[39m\u001b[38;5;124m\"\u001b[39m\u001b[38;5;124mIPython won\u001b[39m\u001b[38;5;124m'\u001b[39m\u001b[38;5;124mt let you open fd=\u001b[39m\u001b[38;5;132;01m{\u001b[39;00mfile\u001b[38;5;132;01m}\u001b[39;00m\u001b[38;5;124m by default \u001b[39m\u001b[38;5;124m\"\u001b[39m\n\u001b[0;32m    280\u001b[0m         \u001b[38;5;124m\"\u001b[39m\u001b[38;5;124mas it is likely to crash IPython. If you know what you are doing, \u001b[39m\u001b[38;5;124m\"\u001b[39m\n\u001b[0;32m    281\u001b[0m         \u001b[38;5;124m\"\u001b[39m\u001b[38;5;124myou can use builtins\u001b[39m\u001b[38;5;124m'\u001b[39m\u001b[38;5;124m open.\u001b[39m\u001b[38;5;124m\"\u001b[39m\n\u001b[0;32m    282\u001b[0m     )\n\u001b[1;32m--> 284\u001b[0m \u001b[38;5;28;01mreturn\u001b[39;00m io_open(file, \u001b[38;5;241m*\u001b[39margs, \u001b[38;5;241m*\u001b[39m\u001b[38;5;241m*\u001b[39mkwargs)\n",
      "\u001b[1;31mFileNotFoundError\u001b[0m: [Errno 2] No such file or directory: 'mbox-short.txt'"
     ]
    }
   ],
   "source": [
    "# Open the file 'mbox-short.txt' in read ('r') mode.\n",
    "fhand = open('mbox-short.txt')\n",
    "\n",
    "# Iterate through each line in the file.\n",
    "for line in fhand:\n",
    "    # Remove trailing whitespace (including the newline character) from the line.\n",
    "    line = line.rstrip()\n",
    "    \n",
    "    # Check if the line starts with 'From:' (including the colon).\n",
    "    if line.startswith('From:'):\n",
    "        # Print the lines that start with 'From:'.\n",
    "        print(line)\n",
    "\n",
    "# Close the file after processing.\n",
    "fhand.close()\n"
   ]
  },
  {
   "cell_type": "markdown",
   "id": "3085b206",
   "metadata": {},
   "source": [
    "# Skipping with Continue"
   ]
  },
  {
   "cell_type": "code",
   "execution_count": 12,
   "id": "f9fd1ecd",
   "metadata": {},
   "outputs": [
    {
     "ename": "FileNotFoundError",
     "evalue": "[Errno 2] No such file or directory: 'mbox-short.txt'",
     "output_type": "error",
     "traceback": [
      "\u001b[1;31m---------------------------------------------------------------------------\u001b[0m",
      "\u001b[1;31mFileNotFoundError\u001b[0m                         Traceback (most recent call last)",
      "Cell \u001b[1;32mIn[12], line 2\u001b[0m\n\u001b[0;32m      1\u001b[0m \u001b[38;5;66;03m# Open the file 'mbox-short.txt' in read ('r') mode.\u001b[39;00m\n\u001b[1;32m----> 2\u001b[0m fhand \u001b[38;5;241m=\u001b[39m \u001b[38;5;28mopen\u001b[39m(\u001b[38;5;124m'\u001b[39m\u001b[38;5;124mmbox-short.txt\u001b[39m\u001b[38;5;124m'\u001b[39m)\n\u001b[0;32m      4\u001b[0m \u001b[38;5;66;03m# Iterate through each line in the file.\u001b[39;00m\n\u001b[0;32m      5\u001b[0m \u001b[38;5;28;01mfor\u001b[39;00m line \u001b[38;5;129;01min\u001b[39;00m fhand:\n\u001b[0;32m      6\u001b[0m     \u001b[38;5;66;03m# Remove trailing whitespace (including the newline character) from the line.\u001b[39;00m\n",
      "File \u001b[1;32m~\\anaconda3\\Lib\\site-packages\\IPython\\core\\interactiveshell.py:284\u001b[0m, in \u001b[0;36m_modified_open\u001b[1;34m(file, *args, **kwargs)\u001b[0m\n\u001b[0;32m    277\u001b[0m \u001b[38;5;28;01mif\u001b[39;00m file \u001b[38;5;129;01min\u001b[39;00m {\u001b[38;5;241m0\u001b[39m, \u001b[38;5;241m1\u001b[39m, \u001b[38;5;241m2\u001b[39m}:\n\u001b[0;32m    278\u001b[0m     \u001b[38;5;28;01mraise\u001b[39;00m \u001b[38;5;167;01mValueError\u001b[39;00m(\n\u001b[0;32m    279\u001b[0m         \u001b[38;5;124mf\u001b[39m\u001b[38;5;124m\"\u001b[39m\u001b[38;5;124mIPython won\u001b[39m\u001b[38;5;124m'\u001b[39m\u001b[38;5;124mt let you open fd=\u001b[39m\u001b[38;5;132;01m{\u001b[39;00mfile\u001b[38;5;132;01m}\u001b[39;00m\u001b[38;5;124m by default \u001b[39m\u001b[38;5;124m\"\u001b[39m\n\u001b[0;32m    280\u001b[0m         \u001b[38;5;124m\"\u001b[39m\u001b[38;5;124mas it is likely to crash IPython. If you know what you are doing, \u001b[39m\u001b[38;5;124m\"\u001b[39m\n\u001b[0;32m    281\u001b[0m         \u001b[38;5;124m\"\u001b[39m\u001b[38;5;124myou can use builtins\u001b[39m\u001b[38;5;124m'\u001b[39m\u001b[38;5;124m open.\u001b[39m\u001b[38;5;124m\"\u001b[39m\n\u001b[0;32m    282\u001b[0m     )\n\u001b[1;32m--> 284\u001b[0m \u001b[38;5;28;01mreturn\u001b[39;00m io_open(file, \u001b[38;5;241m*\u001b[39margs, \u001b[38;5;241m*\u001b[39m\u001b[38;5;241m*\u001b[39mkwargs)\n",
      "\u001b[1;31mFileNotFoundError\u001b[0m: [Errno 2] No such file or directory: 'mbox-short.txt'"
     ]
    }
   ],
   "source": [
    "# Open the file 'mbox-short.txt' in read ('r') mode.\n",
    "fhand = open('mbox-short.txt')\n",
    "\n",
    "# Iterate through each line in the file.\n",
    "for line in fhand:\n",
    "    # Remove trailing whitespace (including the newline character) from the line.\n",
    "    line = line.rstrip()\n",
    "    \n",
    "    # Check if the line does not start with 'From:' (including the colon).\n",
    "    if not line.startswith('From:'):\n",
    "        # Continue to the next iteration of the loop without processing.\n",
    "        continue\n",
    "    \n",
    "    # If the line starts with 'From:', print it.\n",
    "    print(line)\n",
    "\n",
    "# Close the file after processing.\n",
    "fhand.close()\n"
   ]
  },
  {
   "cell_type": "markdown",
   "id": "5d5c5a23",
   "metadata": {},
   "source": [
    "# IN to Select Files"
   ]
  },
  {
   "cell_type": "code",
   "execution_count": 13,
   "id": "27585487",
   "metadata": {},
   "outputs": [
    {
     "ename": "FileNotFoundError",
     "evalue": "[Errno 2] No such file or directory: 'mbox-short.txt'",
     "output_type": "error",
     "traceback": [
      "\u001b[1;31m---------------------------------------------------------------------------\u001b[0m",
      "\u001b[1;31mFileNotFoundError\u001b[0m                         Traceback (most recent call last)",
      "Cell \u001b[1;32mIn[13], line 2\u001b[0m\n\u001b[0;32m      1\u001b[0m \u001b[38;5;66;03m# Open the file 'mbox-short.txt' in read ('r') mode.\u001b[39;00m\n\u001b[1;32m----> 2\u001b[0m fhand \u001b[38;5;241m=\u001b[39m \u001b[38;5;28mopen\u001b[39m(\u001b[38;5;124m'\u001b[39m\u001b[38;5;124mmbox-short.txt\u001b[39m\u001b[38;5;124m'\u001b[39m)\n\u001b[0;32m      4\u001b[0m \u001b[38;5;66;03m# Iterate through each line in the file.\u001b[39;00m\n\u001b[0;32m      5\u001b[0m \u001b[38;5;28;01mfor\u001b[39;00m line \u001b[38;5;129;01min\u001b[39;00m fhand:\n\u001b[0;32m      6\u001b[0m     \u001b[38;5;66;03m# Remove trailing whitespace (including the newline character) from the line.\u001b[39;00m\n",
      "File \u001b[1;32m~\\anaconda3\\Lib\\site-packages\\IPython\\core\\interactiveshell.py:284\u001b[0m, in \u001b[0;36m_modified_open\u001b[1;34m(file, *args, **kwargs)\u001b[0m\n\u001b[0;32m    277\u001b[0m \u001b[38;5;28;01mif\u001b[39;00m file \u001b[38;5;129;01min\u001b[39;00m {\u001b[38;5;241m0\u001b[39m, \u001b[38;5;241m1\u001b[39m, \u001b[38;5;241m2\u001b[39m}:\n\u001b[0;32m    278\u001b[0m     \u001b[38;5;28;01mraise\u001b[39;00m \u001b[38;5;167;01mValueError\u001b[39;00m(\n\u001b[0;32m    279\u001b[0m         \u001b[38;5;124mf\u001b[39m\u001b[38;5;124m\"\u001b[39m\u001b[38;5;124mIPython won\u001b[39m\u001b[38;5;124m'\u001b[39m\u001b[38;5;124mt let you open fd=\u001b[39m\u001b[38;5;132;01m{\u001b[39;00mfile\u001b[38;5;132;01m}\u001b[39;00m\u001b[38;5;124m by default \u001b[39m\u001b[38;5;124m\"\u001b[39m\n\u001b[0;32m    280\u001b[0m         \u001b[38;5;124m\"\u001b[39m\u001b[38;5;124mas it is likely to crash IPython. If you know what you are doing, \u001b[39m\u001b[38;5;124m\"\u001b[39m\n\u001b[0;32m    281\u001b[0m         \u001b[38;5;124m\"\u001b[39m\u001b[38;5;124myou can use builtins\u001b[39m\u001b[38;5;124m'\u001b[39m\u001b[38;5;124m open.\u001b[39m\u001b[38;5;124m\"\u001b[39m\n\u001b[0;32m    282\u001b[0m     )\n\u001b[1;32m--> 284\u001b[0m \u001b[38;5;28;01mreturn\u001b[39;00m io_open(file, \u001b[38;5;241m*\u001b[39margs, \u001b[38;5;241m*\u001b[39m\u001b[38;5;241m*\u001b[39mkwargs)\n",
      "\u001b[1;31mFileNotFoundError\u001b[0m: [Errno 2] No such file or directory: 'mbox-short.txt'"
     ]
    }
   ],
   "source": [
    "# Open the file 'mbox-short.txt' in read ('r') mode.\n",
    "fhand = open('mbox-short.txt')\n",
    "\n",
    "# Iterate through each line in the file.\n",
    "for line in fhand:\n",
    "    # Remove trailing whitespace (including the newline character) from the line.\n",
    "    line = line.rstrip()\n",
    "    \n",
    "    # Check if the line contains the substring '@uct.ac.za'.\n",
    "    if not '@uct.ac.za' in line:\n",
    "        # Continue to the next iteration of the loop without processing.\n",
    "        continue\n",
    "    \n",
    "    # If the line contains '@uct.ac.za', print it.\n",
    "    print(line)\n",
    "\n",
    "# Close the file after processing.\n",
    "fhand.close()\n"
   ]
  },
  {
   "cell_type": "markdown",
   "id": "d64b9026",
   "metadata": {},
   "source": [
    "# FileNames"
   ]
  },
  {
   "cell_type": "code",
   "execution_count": 14,
   "id": "71fc49b1",
   "metadata": {},
   "outputs": [
    {
     "name": "stdout",
     "output_type": "stream",
     "text": [
      "Enter the file name: PICS\n",
      "File cannot be opened: PICS\n"
     ]
    },
    {
     "ename": "NameError",
     "evalue": "name 'fhand' is not defined",
     "output_type": "error",
     "traceback": [
      "\u001b[1;31m---------------------------------------------------------------------------\u001b[0m",
      "\u001b[1;31mNameError\u001b[0m                                 Traceback (most recent call last)",
      "Cell \u001b[1;32mIn[14], line 17\u001b[0m\n\u001b[0;32m     14\u001b[0m count \u001b[38;5;241m=\u001b[39m \u001b[38;5;241m0\u001b[39m\n\u001b[0;32m     16\u001b[0m \u001b[38;5;66;03m# Iterate through each line in the file.\u001b[39;00m\n\u001b[1;32m---> 17\u001b[0m \u001b[38;5;28;01mfor\u001b[39;00m line \u001b[38;5;129;01min\u001b[39;00m fhand:\n\u001b[0;32m     18\u001b[0m     \u001b[38;5;66;03m# Check if the line starts with 'Subject:' (including the colon).\u001b[39;00m\n\u001b[0;32m     19\u001b[0m     \u001b[38;5;28;01mif\u001b[39;00m line\u001b[38;5;241m.\u001b[39mstartswith(\u001b[38;5;124m'\u001b[39m\u001b[38;5;124mSubject:\u001b[39m\u001b[38;5;124m'\u001b[39m):\n\u001b[0;32m     20\u001b[0m         \u001b[38;5;66;03m# Increment the count for each line that starts with 'Subject:'.\u001b[39;00m\n\u001b[0;32m     21\u001b[0m         count \u001b[38;5;241m=\u001b[39m count \u001b[38;5;241m+\u001b[39m \u001b[38;5;241m1\u001b[39m\n",
      "\u001b[1;31mNameError\u001b[0m: name 'fhand' is not defined"
     ]
    }
   ],
   "source": [
    "# Prompt the user to enter the file name.\n",
    "fname = input('Enter the file name: ')\n",
    "\n",
    "try:\n",
    "    # Try to open the file specified by the user.\n",
    "    fhand = open(fname)\n",
    "\n",
    "except FileNotFoundError:\n",
    "    # Handle the case where the file does not exist.\n",
    "    print('File cannot be opened:', fname)\n",
    "    quit()\n",
    "\n",
    "# Initialize a count variable to keep track of the number of lines.\n",
    "count = 0\n",
    "\n",
    "# Iterate through each line in the file.\n",
    "for line in fhand:\n",
    "    # Check if the line starts with 'Subject:' (including the colon).\n",
    "    if line.startswith('Subject:'):\n",
    "        # Increment the count for each line that starts with 'Subject:'.\n",
    "        count = count + 1\n",
    "\n",
    "# Close the file after processing.\n",
    "fhand.close()\n",
    "\n",
    "# Print the total count of lines starting with 'Subject:'.\n",
    "print('There were', count, 'subject lines in', fname)\n"
   ]
  }
 ],
 "metadata": {
  "kernelspec": {
   "display_name": "Python 3 (ipykernel)",
   "language": "python",
   "name": "python3"
  },
  "language_info": {
   "codemirror_mode": {
    "name": "ipython",
    "version": 3
   },
   "file_extension": ".py",
   "mimetype": "text/x-python",
   "name": "python",
   "nbconvert_exporter": "python",
   "pygments_lexer": "ipython3",
   "version": "3.11.4"
  }
 },
 "nbformat": 4,
 "nbformat_minor": 5
}
