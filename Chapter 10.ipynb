{
 "cells": [
  {
   "cell_type": "markdown",
   "id": "f649df19",
   "metadata": {},
   "source": [
    "# Tuples"
   ]
  },
  {
   "cell_type": "code",
   "execution_count": 1,
   "id": "3deda73d",
   "metadata": {},
   "outputs": [
    {
     "name": "stdout",
     "output_type": "stream",
     "text": [
      "Joseph\n",
      "(1, 9, 2)\n",
      "9\n"
     ]
    }
   ],
   "source": [
    "# Define a tuple 'x' with three elements: 'Glenn', 'Sally', and 'Joseph'\n",
    "x = ('Glenn', 'Sally', 'Joseph')\n",
    "\n",
    "# Print the element at index 2 of the tuple 'x'\n",
    "# Indexing is zero-based, so x[2] refers to the third element, which is 'Joseph'\n",
    "print(x[2])\n",
    "# Output: Joseph\n",
    "\n",
    "# Define another tuple 'y' with three elements: 1, 9, and 2\n",
    "y = (1, 9, 2)\n",
    "\n",
    "# Print the entire tuple 'y'\n",
    "print(y)\n",
    "# Output: (1, 9, 2)\n",
    "\n",
    "# Use the max() function to find the maximum value within the tuple 'y'\n",
    "# The maximum value in the tuple is 9, so it is printed as the output\n",
    "print(max(y))\n",
    "# Output: 9\n"
   ]
  },
  {
   "cell_type": "markdown",
   "id": "0226706b",
   "metadata": {},
   "source": [
    "# Immutable Tuples"
   ]
  },
  {
   "cell_type": "code",
   "execution_count": 2,
   "id": "03b4fb97",
   "metadata": {},
   "outputs": [
    {
     "name": "stdout",
     "output_type": "stream",
     "text": [
      "[9, 8, 6]\n"
     ]
    }
   ],
   "source": [
    "# Define a list 'x' with three elements: 9, 8, and 7\n",
    "x = [9, 8, 7]\n",
    "\n",
    "# Modify the element at index 2 (third element) of the list 'x' to be 6\n",
    "x[2] = 6\n",
    "\n",
    "# Print the updated list 'x'\n",
    "print(x)\n",
    "# Output: [9, 8, 6]\n"
   ]
  },
  {
   "cell_type": "code",
   "execution_count": 3,
   "id": "98038cf8",
   "metadata": {},
   "outputs": [
    {
     "ename": "TypeError",
     "evalue": "'str' object does not support item assignment",
     "output_type": "error",
     "traceback": [
      "\u001b[1;31m---------------------------------------------------------------------------\u001b[0m",
      "\u001b[1;31mTypeError\u001b[0m                                 Traceback (most recent call last)",
      "Cell \u001b[1;32mIn[3], line 5\u001b[0m\n\u001b[0;32m      2\u001b[0m y \u001b[38;5;241m=\u001b[39m \u001b[38;5;124m'\u001b[39m\u001b[38;5;124mABC\u001b[39m\u001b[38;5;124m'\u001b[39m\n\u001b[0;32m      4\u001b[0m \u001b[38;5;66;03m# Attempt to modify the character at index 2 (the third character) to 'D'\u001b[39;00m\n\u001b[1;32m----> 5\u001b[0m y[\u001b[38;5;241m2\u001b[39m] \u001b[38;5;241m=\u001b[39m \u001b[38;5;124m'\u001b[39m\u001b[38;5;124mD\u001b[39m\u001b[38;5;124m'\u001b[39m\n",
      "\u001b[1;31mTypeError\u001b[0m: 'str' object does not support item assignment"
     ]
    }
   ],
   "source": [
    "# Define a string 'y' with the value 'ABC'\n",
    "y = 'ABC'\n",
    "\n",
    "# Attempt to modify the character at index 2 (the third character) to 'D'\n",
    "y[2] = 'D'  # This line will raise an error\n"
   ]
  },
  {
   "cell_type": "markdown",
   "id": "2f3d6f8b",
   "metadata": {},
   "source": [
    "# Things not to do with Tuples"
   ]
  },
  {
   "cell_type": "code",
   "execution_count": 4,
   "id": "5aaf41bf",
   "metadata": {},
   "outputs": [
    {
     "ename": "AttributeError",
     "evalue": "'tuple' object has no attribute 'sort'",
     "output_type": "error",
     "traceback": [
      "\u001b[1;31m---------------------------------------------------------------------------\u001b[0m",
      "\u001b[1;31mAttributeError\u001b[0m                            Traceback (most recent call last)",
      "Cell \u001b[1;32mIn[4], line 2\u001b[0m\n\u001b[0;32m      1\u001b[0m x \u001b[38;5;241m=\u001b[39m (\u001b[38;5;241m3\u001b[39m, \u001b[38;5;241m2\u001b[39m, \u001b[38;5;241m1\u001b[39m)\n\u001b[1;32m----> 2\u001b[0m x\u001b[38;5;241m.\u001b[39msort()\n\u001b[0;32m      3\u001b[0m x\u001b[38;5;241m.\u001b[39mappend(\u001b[38;5;241m5\u001b[39m)\n\u001b[0;32m      4\u001b[0m x\u001b[38;5;241m.\u001b[39mreverse()\n",
      "\u001b[1;31mAttributeError\u001b[0m: 'tuple' object has no attribute 'sort'"
     ]
    }
   ],
   "source": [
    ">>> x = (3, 2, 1)\n",
    ">>> x.sort()\n",
    ">>> x.append(5)\n",
    ">>> x.reverse()\n",
    ">>> \n"
   ]
  },
  {
   "cell_type": "markdown",
   "id": "ff3bd08f",
   "metadata": {},
   "source": [
    "# Two Sequences"
   ]
  },
  {
   "cell_type": "code",
   "execution_count": 5,
   "id": "b81cad91",
   "metadata": {},
   "outputs": [
    {
     "name": "stdout",
     "output_type": "stream",
     "text": [
      "['__add__', '__class__', '__class_getitem__', '__contains__', '__delattr__', '__delitem__', '__dir__', '__doc__', '__eq__', '__format__', '__ge__', '__getattribute__', '__getitem__', '__getstate__', '__gt__', '__hash__', '__iadd__', '__imul__', '__init__', '__init_subclass__', '__iter__', '__le__', '__len__', '__lt__', '__mul__', '__ne__', '__new__', '__reduce__', '__reduce_ex__', '__repr__', '__reversed__', '__rmul__', '__setattr__', '__setitem__', '__sizeof__', '__str__', '__subclasshook__', 'append', 'clear', 'copy', 'count', 'extend', 'index', 'insert', 'pop', 'remove', 'reverse', 'sort']\n",
      "['__add__', '__class__', '__class_getitem__', '__contains__', '__delattr__', '__dir__', '__doc__', '__eq__', '__format__', '__ge__', '__getattribute__', '__getitem__', '__getnewargs__', '__getstate__', '__gt__', '__hash__', '__init__', '__init_subclass__', '__iter__', '__le__', '__len__', '__lt__', '__mul__', '__ne__', '__new__', '__reduce__', '__reduce_ex__', '__repr__', '__rmul__', '__setattr__', '__sizeof__', '__str__', '__subclasshook__', 'count', 'index']\n"
     ]
    }
   ],
   "source": [
    "# Create an empty list 'l'\n",
    "l = list()\n",
    "\n",
    "# Use the 'dir()' function to inspect the attributes and methods available for 'l'\n",
    "# The result shows a list of attributes and methods that can be used with lists.\n",
    "# Lists have various built-in methods for modifying and working with elements.\n",
    "print(dir(l))\n",
    "# Output: ['append', 'count', 'extend', 'index', 'insert', 'pop', 'remove', 'reverse', 'sort']\n",
    "\n",
    "# Create an empty tuple 't'\n",
    "t = tuple()\n",
    "\n",
    "# Use the 'dir()' function to inspect the attributes and methods available for 't'\n",
    "# The result shows a shorter list compared to lists because tuples are immutable,\n",
    "# and they have fewer methods for modifying elements.\n",
    "print(dir(t))\n",
    "# Output: ['count', 'index']\n"
   ]
  },
  {
   "cell_type": "markdown",
   "id": "f631647b",
   "metadata": {},
   "source": [
    "# Tuples and Asignment"
   ]
  },
  {
   "cell_type": "code",
   "execution_count": 6,
   "id": "4e125ba1",
   "metadata": {},
   "outputs": [
    {
     "name": "stdout",
     "output_type": "stream",
     "text": [
      "fred\n",
      "99\n"
     ]
    }
   ],
   "source": [
    "# Create a tuple (4, 'fred') and unpack it into variables x and y\n",
    "(x, y) = (4, 'fred')\n",
    "\n",
    "# Print the value of variable y, which is 'fred'\n",
    "print(y)\n",
    "# Output: fred\n",
    "\n",
    "# Create another tuple (99, 98) and unpack it into variables a and b\n",
    "(a, b) = (99, 98)\n",
    "\n",
    "# Print the value of variable a, which is 99\n",
    "print(a)\n",
    "# Output: 99\n"
   ]
  },
  {
   "cell_type": "markdown",
   "id": "33430a4c",
   "metadata": {},
   "source": [
    "# Tuples and Dictionaries"
   ]
  },
  {
   "cell_type": "code",
   "execution_count": 7,
   "id": "6ef5102e",
   "metadata": {},
   "outputs": [
    {
     "name": "stdout",
     "output_type": "stream",
     "text": [
      "csev 2\n",
      "cwen 4\n",
      "dict_items([('csev', 2), ('cwen', 4)])\n"
     ]
    }
   ],
   "source": [
    "# Create an empty dictionary 'd'\n",
    "d = dict()\n",
    "\n",
    "# Add key-value pairs to the dictionary 'd'\n",
    "d['csev'] = 2\n",
    "d['cwen'] = 4\n",
    "\n",
    "# Iterate through the items (key-value pairs) of the dictionary 'd'\n",
    "for (k, v) in d.items():\n",
    "    # Print each key (k) and its corresponding value (v)\n",
    "    print(k, v)\n",
    "# Output:\n",
    "# csev 2\n",
    "# cwen 4\n",
    "\n",
    "# Obtain a view of the items in the dictionary 'd' using the 'items()' method\n",
    "tups = d.items()\n",
    "\n",
    "# Print the view, which is a 'dict_items' object containing key-value tuples\n",
    "print(tups)\n",
    "# Output: dict_items([('csev', 2), ('cwen', 4)])\n"
   ]
  },
  {
   "cell_type": "markdown",
   "id": "43b5c7b2",
   "metadata": {},
   "source": [
    "# Comparable Tuples"
   ]
  },
  {
   "cell_type": "code",
   "execution_count": 8,
   "id": "4fbd45a3",
   "metadata": {},
   "outputs": [
    {
     "name": "stdout",
     "output_type": "stream",
     "text": [
      "True\n",
      "True\n",
      "True\n",
      "True\n"
     ]
    }
   ],
   "source": [
    "# Compare two tuples: (0, 1, 2) and (5, 1, 2)\n",
    "# The comparison is done element-wise, and the first element in the first tuple (0) is less than the first element in the second tuple (5).\n",
    "# Therefore, the entire comparison evaluates to True.\n",
    "print((0, 1, 2) < (5, 1, 2))\n",
    "# Output: True\n",
    "\n",
    "# Compare two tuples: (0, 1, 2000000) and (0, 3, 4)\n",
    "# Again, the comparison is done element-wise.\n",
    "# The first elements in both tuples are equal (0).\n",
    "# The second element in the first tuple (1) is less than the second element in the second tuple (3).\n",
    "# Therefore, the entire comparison evaluates to True.\n",
    "print((0, 1, 2000000) < (0, 3, 4))\n",
    "# Output: True\n",
    "\n",
    "# Compare two tuples: ('Jones', 'Sally') and ('Jones', 'Sam')\n",
    "# The comparison is done lexicographically (dictionary order).\n",
    "# The first element in both tuples is 'Jones', which is equal.\n",
    "# The second element in the first tuple ('Sally') is less than the second element in the second tuple ('Sam').\n",
    "# Therefore, the entire comparison evaluates to True.\n",
    "print(('Jones', 'Sally') < ('Jones', 'Sam'))\n",
    "# Output: True\n",
    "\n",
    "# Compare two tuples: ('Jones', 'Sally') and ('Adams', 'Sam')\n",
    "# The comparison is done lexicographically.\n",
    "# The first element in the first tuple ('Jones') is greater than the first element in the second tuple ('Adams').\n",
    "# Therefore, the entire comparison evaluates to True.\n",
    "print(('Jones', 'Sally') > ('Adams', 'Sam'))\n",
    "# Output: True\n"
   ]
  },
  {
   "cell_type": "markdown",
   "id": "8bee4f6c",
   "metadata": {},
   "source": [
    "# Sorting Lists of Tuples"
   ]
  },
  {
   "cell_type": "code",
   "execution_count": 9,
   "id": "fad3786c",
   "metadata": {},
   "outputs": [
    {
     "name": "stdout",
     "output_type": "stream",
     "text": [
      "dict_items([('a', 10), ('b', 1), ('c', 22)])\n",
      "[('a', 10), ('b', 1), ('c', 22)]\n"
     ]
    }
   ],
   "source": [
    "# Create a dictionary 'd' with key-value pairs\n",
    "d = {'a': 10, 'b': 1, 'c': 22}\n",
    "\n",
    "# Obtain a view of the items in the dictionary 'd' using the 'items()' method\n",
    "items_view = d.items()\n",
    "\n",
    "# Print the view, which is a 'dict_items' object containing key-value tuples\n",
    "print(items_view)\n",
    "# Output: dict_items([('a', 10), ('c', 22), ('b', 1)])\n",
    "\n",
    "# Use the 'sorted()' function to sort the items of the dictionary 'd'\n",
    "# Sorting is done based on the keys in lexicographical order.\n",
    "sorted_items = sorted(d.items())\n",
    "\n",
    "# Print the sorted items, which is a list of sorted key-value tuples\n",
    "print(sorted_items)\n",
    "# Output: [('a', 10), ('b', 1), ('c', 22)]\n"
   ]
  },
  {
   "cell_type": "markdown",
   "id": "80397ac6",
   "metadata": {},
   "source": [
    "# Using Sorted"
   ]
  },
  {
   "cell_type": "code",
   "execution_count": 10,
   "id": "b0c632f4",
   "metadata": {},
   "outputs": [
    {
     "name": "stdout",
     "output_type": "stream",
     "text": [
      "[('a', 10), ('b', 1), ('c', 22)]\n",
      "a 10\n",
      "b 1\n",
      "c 22\n"
     ]
    }
   ],
   "source": [
    "# Create a dictionary 'd' with key-value pairs\n",
    "d = {'a': 10, 'b': 1, 'c': 22}\n",
    "\n",
    "# Use the 'items()' method to obtain a view of the items in the dictionary 'd'\n",
    "# Then, use the 'sorted()' function to sort the items based on keys\n",
    "t = sorted(d.items())\n",
    "\n",
    "# 't' is now a list of sorted key-value tuples\n",
    "# The keys are sorted alphabetically\n",
    "# Print 't'\n",
    "print(t)\n",
    "# Output: [('a', 10), ('b', 1), ('c', 22)]\n",
    "\n",
    "# Iterate through the sorted key-value pairs in 't'\n",
    "for k, v in t:\n",
    "    # Print each key 'k' and its corresponding value 'v'\n",
    "    print(k, v)\n",
    "# Output:\n",
    "# a 10\n",
    "# b 1\n",
    "# c 22\n"
   ]
  },
  {
   "cell_type": "markdown",
   "id": "46742839",
   "metadata": {},
   "source": [
    "# Sort by Values"
   ]
  },
  {
   "cell_type": "code",
   "execution_count": 11,
   "id": "8b6c58e9",
   "metadata": {},
   "outputs": [
    {
     "name": "stdout",
     "output_type": "stream",
     "text": [
      "[(10, 'a'), (1, 'b'), (22, 'c')]\n",
      "[(22, 'c'), (10, 'a'), (1, 'b')]\n"
     ]
    }
   ],
   "source": [
    "# Create a dictionary 'c' with key-value pairs\n",
    "c = {'a': 10, 'b': 1, 'c': 22}\n",
    "\n",
    "# Create an empty list 'tmp' to store tuples of (value, key)\n",
    "tmp = list()\n",
    "\n",
    "# Iterate through the items (key-value pairs) in the dictionary 'c'\n",
    "for k, v in c.items():\n",
    "    # Append tuples of (value, key) to the 'tmp' list\n",
    "    tmp.append((v, k))\n",
    "\n",
    "# Print the 'tmp' list, which contains tuples of (value, key)\n",
    "print(tmp)\n",
    "# Output: [(10, 'a'), (22, 'c'), (1, 'b')]\n",
    "\n",
    "# Sort the 'tmp' list in reverse order (from highest to lowest value)\n",
    "tmp = sorted(tmp, reverse=True)\n",
    "\n",
    "# Print the sorted 'tmp' list\n",
    "print(tmp)\n",
    "# Output: [(22, 'c'), (10, 'a'), (1, 'b')]\n"
   ]
  },
  {
   "cell_type": "code",
   "execution_count": 12,
   "id": "6bc50f40",
   "metadata": {},
   "outputs": [
    {
     "ename": "FileNotFoundError",
     "evalue": "[Errno 2] No such file or directory: 'romeo.txt'",
     "output_type": "error",
     "traceback": [
      "\u001b[1;31m---------------------------------------------------------------------------\u001b[0m",
      "\u001b[1;31mFileNotFoundError\u001b[0m                         Traceback (most recent call last)",
      "Cell \u001b[1;32mIn[12], line 2\u001b[0m\n\u001b[0;32m      1\u001b[0m \u001b[38;5;66;03m# Open the file 'romeo.txt' for reading\u001b[39;00m\n\u001b[1;32m----> 2\u001b[0m fhand \u001b[38;5;241m=\u001b[39m \u001b[38;5;28mopen\u001b[39m(\u001b[38;5;124m'\u001b[39m\u001b[38;5;124mromeo.txt\u001b[39m\u001b[38;5;124m'\u001b[39m)\n\u001b[0;32m      4\u001b[0m \u001b[38;5;66;03m# Create an empty dictionary 'counts' to store word counts\u001b[39;00m\n\u001b[0;32m      5\u001b[0m counts \u001b[38;5;241m=\u001b[39m {}\n",
      "File \u001b[1;32m~\\anaconda3\\Lib\\site-packages\\IPython\\core\\interactiveshell.py:284\u001b[0m, in \u001b[0;36m_modified_open\u001b[1;34m(file, *args, **kwargs)\u001b[0m\n\u001b[0;32m    277\u001b[0m \u001b[38;5;28;01mif\u001b[39;00m file \u001b[38;5;129;01min\u001b[39;00m {\u001b[38;5;241m0\u001b[39m, \u001b[38;5;241m1\u001b[39m, \u001b[38;5;241m2\u001b[39m}:\n\u001b[0;32m    278\u001b[0m     \u001b[38;5;28;01mraise\u001b[39;00m \u001b[38;5;167;01mValueError\u001b[39;00m(\n\u001b[0;32m    279\u001b[0m         \u001b[38;5;124mf\u001b[39m\u001b[38;5;124m\"\u001b[39m\u001b[38;5;124mIPython won\u001b[39m\u001b[38;5;124m'\u001b[39m\u001b[38;5;124mt let you open fd=\u001b[39m\u001b[38;5;132;01m{\u001b[39;00mfile\u001b[38;5;132;01m}\u001b[39;00m\u001b[38;5;124m by default \u001b[39m\u001b[38;5;124m\"\u001b[39m\n\u001b[0;32m    280\u001b[0m         \u001b[38;5;124m\"\u001b[39m\u001b[38;5;124mas it is likely to crash IPython. If you know what you are doing, \u001b[39m\u001b[38;5;124m\"\u001b[39m\n\u001b[0;32m    281\u001b[0m         \u001b[38;5;124m\"\u001b[39m\u001b[38;5;124myou can use builtins\u001b[39m\u001b[38;5;124m'\u001b[39m\u001b[38;5;124m open.\u001b[39m\u001b[38;5;124m\"\u001b[39m\n\u001b[0;32m    282\u001b[0m     )\n\u001b[1;32m--> 284\u001b[0m \u001b[38;5;28;01mreturn\u001b[39;00m io_open(file, \u001b[38;5;241m*\u001b[39margs, \u001b[38;5;241m*\u001b[39m\u001b[38;5;241m*\u001b[39mkwargs)\n",
      "\u001b[1;31mFileNotFoundError\u001b[0m: [Errno 2] No such file or directory: 'romeo.txt'"
     ]
    }
   ],
   "source": [
    "# Open the file 'romeo.txt' for reading\n",
    "fhand = open('romeo.txt')\n",
    "\n",
    "# Create an empty dictionary 'counts' to store word counts\n",
    "counts = {}\n",
    "\n",
    "# Iterate through each line in the file\n",
    "for line in fhand:\n",
    "    # Split the line into words\n",
    "    words = line.split()\n",
    "    \n",
    "    # Iterate through each word in the line\n",
    "    for word in words:\n",
    "        # Update the word count in the 'counts' dictionary\n",
    "        counts[word] = counts.get(word, 0) + 1\n",
    "\n",
    "# Create an empty list 'lst' to store (count, word) tuples\n",
    "lst = []\n",
    "\n",
    "# Iterate through key-value pairs in the 'counts' dictionary\n",
    "for key, val in counts.items():\n",
    "    # Create a tuple (count, word)\n",
    "    newtup = (val, key)\n",
    "    \n",
    "    # Append the tuple to the 'lst' list\n",
    "    lst.append(newtup)\n",
    "\n",
    "# Sort the 'lst' list in reverse order based on the count (from highest to lowest)\n",
    "lst = sorted(lst, reverse=True)\n",
    "\n",
    "# Print the top 10 most frequent words and their counts\n",
    "for val, key in lst[:10]:\n",
    "    print(key, val)\n"
   ]
  },
  {
   "cell_type": "markdown",
   "id": "5b197233",
   "metadata": {},
   "source": [
    "# Shorter Version"
   ]
  },
  {
   "cell_type": "code",
   "execution_count": 13,
   "id": "37fc2501",
   "metadata": {},
   "outputs": [
    {
     "name": "stdout",
     "output_type": "stream",
     "text": [
      "[(1, 'b'), (10, 'a'), (22, 'c')]\n"
     ]
    }
   ],
   "source": [
    "# Create a dictionary 'c' with key-value pairs\n",
    "c = {'a': 10, 'b': 1, 'c': 22}\n",
    "\n",
    "# Use a list comprehension to create a list of (value, key) tuples\n",
    "# The list comprehension iterates through the items (key-value pairs) in the dictionary 'c'\n",
    "# and constructs tuples where the first element is the value ('v') and the second element is the key ('k')\n",
    "value_key_pairs = [(v, k) for k, v in c.items()]\n",
    "\n",
    "# Use the 'sorted()' function to sort the list of (value, key) tuples in ascending order\n",
    "# Sorting is done based on the first element of each tuple (the values)\n",
    "sorted_pairs = sorted(value_key_pairs)\n",
    "\n",
    "# Print the sorted list of (value, key) tuples\n",
    "print(sorted_pairs)\n",
    "# Output: [(1, 'b'), (10, 'a'), (22, 'c')]\n"
   ]
  }
 ],
 "metadata": {
  "kernelspec": {
   "display_name": "Python 3 (ipykernel)",
   "language": "python",
   "name": "python3"
  },
  "language_info": {
   "codemirror_mode": {
    "name": "ipython",
    "version": 3
   },
   "file_extension": ".py",
   "mimetype": "text/x-python",
   "name": "python",
   "nbconvert_exporter": "python",
   "pygments_lexer": "ipython3",
   "version": "3.11.4"
  }
 },
 "nbformat": 4,
 "nbformat_minor": 5
}
