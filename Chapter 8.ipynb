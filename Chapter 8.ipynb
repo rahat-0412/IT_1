{
 "cells": [
  {
   "cell_type": "markdown",
   "id": "d8b964f1",
   "metadata": {},
   "source": [
    "# Overwriting values"
   ]
  },
  {
   "cell_type": "code",
   "execution_count": 1,
   "id": "2916bde3",
   "metadata": {},
   "outputs": [
    {
     "name": "stdout",
     "output_type": "stream",
     "text": [
      "4\n"
     ]
    }
   ],
   "source": [
    "# Assign the value 2 to the variable 'x'\n",
    ">>> x = 2\n",
    "\n",
    "# Reassign the value 4 to the same variable 'x', overwriting the previous value (2)\n",
    ">>> x = 4\n",
    "\n",
    "# Print the current value of 'x', which is 4\n",
    ">>> print(x)\n"
   ]
  },
  {
   "cell_type": "markdown",
   "id": "034d356e",
   "metadata": {},
   "source": [
    "# List Constants"
   ]
  },
  {
   "cell_type": "code",
   "execution_count": 2,
   "id": "ce8ee0e6",
   "metadata": {},
   "outputs": [
    {
     "name": "stdout",
     "output_type": "stream",
     "text": [
      "[1, 24, 76]\n",
      "['red', 'yellow', 'blue']\n",
      "['red', 24, 98.6]\n",
      "[1, [5, 6], 7]\n",
      "[]\n"
     ]
    },
    {
     "data": {
      "text/plain": [
       "[]"
      ]
     },
     "execution_count": 2,
     "metadata": {},
     "output_type": "execute_result"
    }
   ],
   "source": [
    "# Print a list of integers\n",
    ">>> print([1, 24, 76])\n",
    "[1, 24, 76]\n",
    "\n",
    "# Print a list of strings with line breaks within the list\n",
    ">>> print(['red', 'yellow', \n",
    "'blue'])\n",
    "['red', 'yellow', 'blue']\n",
    "\n",
    "# Print a list containing different data types (string, integer, float)\n",
    ">>> print(['red', 24, 98.6])\n",
    "['red', 24, 98.6]\n",
    "\n",
    "# Print a nested list containing integers and another list\n",
    ">>> print([1, [5, 6], 7])\n",
    "[1, [5, 6], 7]\n",
    "\n",
    "# Print an empty list\n",
    ">>> print([])\n",
    "[]\n"
   ]
  },
  {
   "cell_type": "code",
   "execution_count": 3,
   "id": "d1ca2493",
   "metadata": {},
   "outputs": [
    {
     "name": "stdout",
     "output_type": "stream",
     "text": [
      "5\n",
      "Blastoff!\n",
      "4\n",
      "Blastoff!\n",
      "3\n",
      "Blastoff!\n",
      "2\n",
      "Blastoff!\n",
      "1\n",
      "Blastoff!\n"
     ]
    }
   ],
   "source": [
    "# Iterate through the list [5, 4, 3, 2, 1]\n",
    "for i in [5, 4, 3, 2, 1]:\n",
    "    # Print the current value of 'i'\n",
    "    print(i)\n",
    "\n",
    "    # Print 'Blastoff!' after printing the number\n",
    "    print('Blastoff!')\n"
   ]
  },
  {
   "cell_type": "markdown",
   "id": "e450c60c",
   "metadata": {},
   "source": [
    "# Lists and Definite Loops"
   ]
  },
  {
   "cell_type": "code",
   "execution_count": 4,
   "id": "fdec0464",
   "metadata": {},
   "outputs": [
    {
     "name": "stdout",
     "output_type": "stream",
     "text": [
      "Happy New Year: Joseph\n",
      "Happy New Year: Glenn\n",
      "Happy New Year: Sally\n",
      "Done!\n",
      "Happy New Year: Joseph\n",
      "Happy New Year: Glenn\n",
      "Happy New Year: Sally\n",
      "Done!\n"
     ]
    }
   ],
   "source": [
    "# Define a list called 'friends'\n",
    "friends = ['Joseph', 'Glenn', 'Sally']\n",
    "\n",
    "# Iterate through the 'friends' list\n",
    "for friend in friends:\n",
    "    # Print a message for each friend in the list\n",
    "    print('Happy New Year:', friend)\n",
    "\n",
    "# Print 'Done!' after the loop is finished\n",
    "print('Done!')\n",
    "\n",
    "# Define a new list called 'z' (which is the same as 'friends' in this case)\n",
    "z = ['Joseph', 'Glenn', 'Sally']\n",
    "\n",
    "# Iterate through the 'z' list\n",
    "for x in z:\n",
    "    # Print a message for each element in the 'z' list\n",
    "    print('Happy New Year:', x)\n",
    "\n",
    "# Print 'Done!' again after the second loop is finished\n",
    "print('Done!')\n"
   ]
  },
  {
   "cell_type": "markdown",
   "id": "5e92be79",
   "metadata": {},
   "source": [
    "# Looking inside Loops"
   ]
  },
  {
   "cell_type": "code",
   "execution_count": 5,
   "id": "3ce5198e",
   "metadata": {},
   "outputs": [
    {
     "name": "stdout",
     "output_type": "stream",
     "text": [
      "Glenn\n"
     ]
    }
   ],
   "source": [
    "# Define a list called 'friends' containing three names\n",
    "friends = [ 'Joseph', 'Glenn', 'Sally' ]\n",
    "\n",
    "# Print the element at index 1 of the 'friends' list\n",
    "print(friends[1])\n",
    "# Output: Glenn\n"
   ]
  },
  {
   "cell_type": "markdown",
   "id": "7895184f",
   "metadata": {},
   "source": [
    "# Mutable Lists"
   ]
  },
  {
   "cell_type": "code",
   "execution_count": 6,
   "id": "3cbaa005",
   "metadata": {},
   "outputs": [
    {
     "name": "stdout",
     "output_type": "stream",
     "text": [
      "banana\n",
      "[2, 14, 26, 41, 63]\n",
      "[2, 14, 28, 41, 63]\n"
     ]
    }
   ],
   "source": [
    "# Assign a string 'Banana' to the variable 'fruit'\n",
    "fruit = 'Banana'\n",
    "\n",
    "# Attempt to change the first character of 'fruit' to 'b' (which results in an error)\n",
    "# Strings in Python are immutable, so you cannot change individual characters in a string.\n",
    "# This leads to a TypeError.\n",
    "# You can create a new string with the desired changes.\n",
    "# The error message is displayed in a traceback.\n",
    "# Output: TypeError: 'str' object does not support item assignment\n",
    "\n",
    "# Create a new string 'x' by converting 'fruit' to lowercase\n",
    "x = fruit.lower()\n",
    "\n",
    "# Print the value of 'x', which is 'banana'\n",
    "print(x)\n",
    "# Output: banana\n",
    "\n",
    "# Define a list 'lotto' containing integers\n",
    "lotto = [2, 14, 26, 41, 63]\n",
    "\n",
    "# Print the contents of the 'lotto' list\n",
    "print(lotto)\n",
    "# Output: [2, 14, 26, 41, 63]\n",
    "\n",
    "# Change the element at index 2 of 'lotto' from 26 to 28\n",
    "lotto[2] = 28\n",
    "\n",
    "# Print the modified 'lotto' list\n",
    "print(lotto)\n",
    "# Output: [2, 14, 28, 41, 63]\n"
   ]
  },
  {
   "cell_type": "markdown",
   "id": "c9c5ebbb",
   "metadata": {},
   "source": [
    "# How long is a List"
   ]
  },
  {
   "cell_type": "code",
   "execution_count": 7,
   "id": "fe1cbdd5",
   "metadata": {},
   "outputs": [
    {
     "name": "stdout",
     "output_type": "stream",
     "text": [
      "9\n",
      "4\n"
     ]
    }
   ],
   "source": [
    "# Assign the string 'Hello Bob' to the variable 'greet'\n",
    "greet = 'Hello Bob'\n",
    "\n",
    "# Use the 'len' function to calculate the length (number of characters) of the 'greet' string\n",
    "# The length of 'Hello Bob' is 9 characters, including spaces.\n",
    "print(len(greet))\n",
    "# Output: 9\n",
    "\n",
    "# Create a list 'x' containing various data types (integers, strings)\n",
    "x = [1, 2, 'joe', 99]\n",
    "\n",
    "# Use the 'len' function to calculate the length (number of elements) of the 'x' list\n",
    "# The 'x' list contains 4 elements.\n",
    "print(len(x))\n",
    "# Output: 4\n"
   ]
  },
  {
   "cell_type": "markdown",
   "id": "51c59dee",
   "metadata": {},
   "source": [
    "# Range Function"
   ]
  },
  {
   "cell_type": "code",
   "execution_count": 8,
   "id": "a2a3287f",
   "metadata": {},
   "outputs": [
    {
     "name": "stdout",
     "output_type": "stream",
     "text": [
      "range(0, 4)\n",
      "3\n",
      "range(0, 3)\n"
     ]
    }
   ],
   "source": [
    "# Print the result of the 'range(4)' function call\n",
    "# The 'range' function generates a sequence of numbers starting from 0 up to (but not including) the specified number.\n",
    "# In this case, 'range(4)' generates the numbers 0, 1, 2, and 3.\n",
    "print(range(4))\n",
    "# Output: [0, 1, 2, 3]\n",
    "\n",
    "# Create a list 'friends' containing three names\n",
    "friends = ['Joseph', 'Glenn', 'Sally']\n",
    "\n",
    "# Print the length (number of elements) of the 'friends' list\n",
    "# The 'friends' list contains 3 elements.\n",
    "print(len(friends))\n",
    "# Output: 3\n",
    "\n",
    "# Print the result of the 'range(len(friends))' function call\n",
    "# 'len(friends)' returns 3, so 'range(len(friends))' generates the numbers 0, 1, and 2.\n",
    "print(range(len(friends)))\n",
    "# Output: [0, 1, 2]\n"
   ]
  },
  {
   "cell_type": "markdown",
   "id": "09dae70c",
   "metadata": {},
   "source": [
    "# Loopswith Range Function"
   ]
  },
  {
   "cell_type": "code",
   "execution_count": 9,
   "id": "63145285",
   "metadata": {},
   "outputs": [
    {
     "name": "stdout",
     "output_type": "stream",
     "text": [
      "Happy New Year: Joseph\n",
      "Happy New Year: Glenn\n",
      "Happy New Year: Sally\n",
      "Happy New Year: Joseph\n",
      "Happy New Year: Glenn\n",
      "Happy New Year: Sally\n"
     ]
    }
   ],
   "source": [
    "# Define a list called 'friends' containing three names\n",
    "friends = ['Joseph', 'Glenn', 'Sally']\n",
    "\n",
    "# First loop: Iterate through the 'friends' list using a for loop\n",
    "for friend in friends:\n",
    "    # Print a message for each friend in the list\n",
    "    print('Happy New Year:', friend)\n",
    "\n",
    "# Second loop: Iterate through the 'friends' list using a for loop with a range of indices\n",
    "for i in range(len(friends)):\n",
    "    # Get the 'i'-th element from the 'friends' list\n",
    "    friend = friends[i]\n",
    "    \n",
    "    # Print a message for each friend in the list\n",
    "    print('Happy New Year:', friend)\n"
   ]
  },
  {
   "cell_type": "code",
   "execution_count": 10,
   "id": "33b6432d",
   "metadata": {},
   "outputs": [
    {
     "name": "stdout",
     "output_type": "stream",
     "text": [
      "3\n",
      "range(0, 3)\n"
     ]
    }
   ],
   "source": [
    "# Define a list called 'friends' containing three names\n",
    "friends = ['Joseph', 'Glenn', 'Sally']\n",
    "\n",
    "# Print the length (number of elements) of the 'friends' list\n",
    "# The 'friends' list contains 3 elements.\n",
    "print(len(friends))\n",
    "# Output: 3\n",
    "\n",
    "# Print the result of the 'range(len(friends))' function call\n",
    "# 'len(friends)' returns 3, so 'range(len(friends))' generates the numbers 0, 1, and 2.\n",
    "print(range(len(friends)))\n",
    "# Output: [0, 1, 2]\n"
   ]
  },
  {
   "cell_type": "markdown",
   "id": "b43d53b6",
   "metadata": {},
   "source": [
    "# Concatinating lists using +"
   ]
  },
  {
   "cell_type": "code",
   "execution_count": 11,
   "id": "a7653ab0",
   "metadata": {},
   "outputs": [
    {
     "name": "stdout",
     "output_type": "stream",
     "text": [
      "[1, 2, 3, 4, 5, 6]\n",
      "[1, 2, 3]\n"
     ]
    }
   ],
   "source": [
    "# Create a list 'a' containing three integers\n",
    "a = [1, 2, 3]\n",
    "\n",
    "# Create another list 'b' containing three integers\n",
    "b = [4, 5, 6]\n",
    "\n",
    "# Concatenate lists 'a' and 'b' using the '+' operator\n",
    "# This creates a new list 'c' that contains all elements from 'a' followed by all elements from 'b'.\n",
    "c = a + b\n",
    "\n",
    "# Print the concatenated list 'c'\n",
    "# The 'c' list contains elements [1, 2, 3, 4, 5, 6].\n",
    "print(c)\n",
    "# Output: [1, 2, 3, 4, 5, 6]\n",
    "\n",
    "# Print the original list 'a'\n",
    "# The 'a' list remains unchanged.\n",
    "print(a)\n",
    "# Output: [1, 2, 3]\n"
   ]
  },
  {
   "cell_type": "markdown",
   "id": "bc3d36ab",
   "metadata": {},
   "source": [
    "# Slicing"
   ]
  },
  {
   "cell_type": "code",
   "execution_count": 12,
   "id": "888f5ce9",
   "metadata": {},
   "outputs": [
    {
     "name": "stdout",
     "output_type": "stream",
     "text": [
      "[41, 12]\n",
      "[9, 41, 12, 3]\n",
      "[3, 74, 15]\n",
      "[9, 41, 12, 3, 74, 15]\n"
     ]
    }
   ],
   "source": [
    "# Define a list 't' containing six integers\n",
    "t = [9, 41, 12, 3, 74, 15]\n",
    "\n",
    "# Slice from index 1 (inclusive) to index 3 (exclusive)\n",
    "# This will extract elements at index 1 and 2.\n",
    "print(t[1:3])\n",
    "# Output: [41, 12]\n",
    "\n",
    "# Slice from the beginning of the list up to index 4 (exclusive)\n",
    "# This will extract elements at index 0, 1, 2, and 3.\n",
    "print(t[:4])\n",
    "# Output: [9, 41, 12, 3]\n",
    "\n",
    "# Slice from index 3 (inclusive) to the end of the list\n",
    "# This will extract elements at index 3, 4, and 5.\n",
    "print(t[3:])\n",
    "# Output: [3, 74, 15]\n",
    "\n",
    "# Slice the entire list, creating a copy of the list\n",
    "print(t[:])\n",
    "# Output: [9, 41, 12, 3, 74, 15]\n"
   ]
  },
  {
   "cell_type": "markdown",
   "id": "d2115d31",
   "metadata": {},
   "source": [
    "# Lists Methods"
   ]
  },
  {
   "cell_type": "code",
   "execution_count": 13,
   "id": "ffa2b419",
   "metadata": {},
   "outputs": [
    {
     "name": "stdout",
     "output_type": "stream",
     "text": [
      "<class 'list'>\n",
      "['__add__', '__class__', '__class_getitem__', '__contains__', '__delattr__', '__delitem__', '__dir__', '__doc__', '__eq__', '__format__', '__ge__', '__getattribute__', '__getitem__', '__getstate__', '__gt__', '__hash__', '__iadd__', '__imul__', '__init__', '__init_subclass__', '__iter__', '__le__', '__len__', '__lt__', '__mul__', '__ne__', '__new__', '__reduce__', '__reduce_ex__', '__repr__', '__reversed__', '__rmul__', '__setattr__', '__setitem__', '__sizeof__', '__str__', '__subclasshook__', 'append', 'clear', 'copy', 'count', 'extend', 'index', 'insert', 'pop', 'remove', 'reverse', 'sort']\n"
     ]
    }
   ],
   "source": [
    "# Create an empty list using the 'list()' constructor\n",
    "x = list()\n",
    "\n",
    "# Use the 'type()' function to check the type of 'x'\n",
    "# It confirms that 'x' is indeed a list.\n",
    "print(type(x))\n",
    "# Output: <class 'list'>\n",
    "\n",
    "# Use the 'dir()' function to list the available methods for 'x'\n",
    "# This displays the list of built-in methods that can be used with lists.\n",
    "print(dir(x))\n",
    "# Output: ['append', 'count', 'extend', 'index', 'insert', 'pop', 'remove', 'reverse', 'sort']\n"
   ]
  },
  {
   "cell_type": "markdown",
   "id": "9884308e",
   "metadata": {},
   "source": [
    "# Building list from Scratch"
   ]
  },
  {
   "cell_type": "code",
   "execution_count": 14,
   "id": "890da52b",
   "metadata": {},
   "outputs": [
    {
     "name": "stdout",
     "output_type": "stream",
     "text": [
      "['book', 99]\n",
      "['book', 99, 'cookie']\n"
     ]
    }
   ],
   "source": [
    "# Create an empty list called 'stuff' using the 'list()' constructor\n",
    "stuff = list()\n",
    "\n",
    "# Append the string 'book' to the 'stuff' list\n",
    "stuff.append('book')\n",
    "\n",
    "# Append the integer 99 to the 'stuff' list\n",
    "stuff.append(99)\n",
    "\n",
    "# Print the contents of the 'stuff' list\n",
    "# The list now contains two elements: 'book' and 99\n",
    "print(stuff)\n",
    "# Output: ['book', 99]\n",
    "\n",
    "# Append the string 'cookie' to the 'stuff' list\n",
    "# The list now contains three elements: 'book', 99, and 'cookie'\n",
    "stuff.append('cookie')\n",
    "\n",
    "# Print the updated contents of the 'stuff' list\n",
    "print(stuff)\n",
    "# Output: ['book', 99, 'cookie']\n"
   ]
  },
  {
   "cell_type": "markdown",
   "id": "1a81b1b6",
   "metadata": {},
   "source": [
    "# Checking an item in List"
   ]
  },
  {
   "cell_type": "code",
   "execution_count": 15,
   "id": "0dd83bd5",
   "metadata": {},
   "outputs": [
    {
     "name": "stdout",
     "output_type": "stream",
     "text": [
      "True\n",
      "False\n",
      "True\n"
     ]
    }
   ],
   "source": [
    "# Define a list 'some' containing integers\n",
    "some = [1, 9, 21, 10, 16]\n",
    "\n",
    "# Check if the value 9 is present in the list 'some'\n",
    "# The 'in' operator returns True because 9 is in the list.\n",
    "print(9 in some)\n",
    "# Output: True\n",
    "\n",
    "# Check if the value 15 is present in the list 'some'\n",
    "# The 'in' operator returns False because 15 is not in the list.\n",
    "print(15 in some)\n",
    "# Output: False\n",
    "\n",
    "# Check if the value 20 is NOT present in the list 'some'\n",
    "# The 'not in' operator returns True because 20 is not in the list.\n",
    "print(20 not in some)\n",
    "# Output: True\n"
   ]
  },
  {
   "cell_type": "markdown",
   "id": "e43de84d",
   "metadata": {},
   "source": [
    "# Checking Order"
   ]
  },
  {
   "cell_type": "code",
   "execution_count": 16,
   "id": "66faa630",
   "metadata": {},
   "outputs": [
    {
     "name": "stdout",
     "output_type": "stream",
     "text": [
      "['Glenn', 'Joseph', 'Sally']\n",
      "Joseph\n"
     ]
    }
   ],
   "source": [
    "# Define a list 'friends' containing names\n",
    "friends = ['Joseph', 'Glenn', 'Sally']\n",
    "\n",
    "# Sort the 'friends' list in alphabetical order\n",
    "friends.sort()\n",
    "\n",
    "# Print the sorted 'friends' list\n",
    "# The list is now in alphabetical order: ['Glenn', 'Joseph', 'Sally']\n",
    "print(friends)\n",
    "# Output: ['Glenn', 'Joseph', 'Sally']\n",
    "\n",
    "# Access the element at index 1 of the sorted 'friends' list\n",
    "# Index 1 corresponds to 'Joseph' in the sorted list.\n",
    "print(friends[1])\n",
    "# Output: Joseph\n"
   ]
  },
  {
   "cell_type": "markdown",
   "id": "cc799d0d",
   "metadata": {},
   "source": [
    "# Built InFunctions and Lists"
   ]
  },
  {
   "cell_type": "code",
   "execution_count": 17,
   "id": "6f5536b5",
   "metadata": {},
   "outputs": [
    {
     "name": "stdout",
     "output_type": "stream",
     "text": [
      "6\n",
      "74\n",
      "3\n",
      "154\n",
      "25.666666666666668\n"
     ]
    }
   ],
   "source": [
    "# Define a list 'nums' containing six integers\n",
    "nums = [3, 41, 12, 9, 74, 15]\n",
    "\n",
    "# Print the length (number of elements) of the 'nums' list\n",
    "print(len(nums))\n",
    "# Output: 6\n",
    "\n",
    "# Print the maximum value in the 'nums' list\n",
    "print(max(nums))\n",
    "# Output: 74\n",
    "\n",
    "# Print the minimum value in the 'nums' list\n",
    "print(min(nums))\n",
    "# Output: 3\n",
    "\n",
    "# Print the sum of all values in the 'nums' list\n",
    "print(sum(nums))\n",
    "# Output: 154\n",
    "\n",
    "# Calculate and print the average (mean) value of the 'nums' list\n",
    "# This is done by dividing the sum of the numbers by the number of numbers in the list.\n",
    "print(sum(nums) / len(nums))\n",
    "# Output: 25.6\n"
   ]
  },
  {
   "cell_type": "code",
   "execution_count": null,
   "id": "bd5257c2",
   "metadata": {},
   "outputs": [],
   "source": [
    "# Initialize variables to keep track of the total, count, and average\n",
    "total = 0  # This variable will store the sum of all entered numbers\n",
    "count = 0  # This variable will count the number of valid numeric inputs\n",
    "\n",
    "# Start an infinite loop\n",
    "while True:\n",
    "    # Prompt the user to enter a number\n",
    "    inp = input('Enter a number: ')\n",
    "    \n",
    "    # Check if the user entered 'done'; if so, exit the loop\n",
    "    if inp == 'done':\n",
    "        break\n",
    "    \n",
    "    try:\n",
    "        # Convert the input to a float (assuming valid numeric input)\n",
    "        value = float(inp)\n",
    "    except ValueError:\n",
    "        # Handle the case where the input is not a valid number\n",
    "        print('Invalid input. Please enter a numeric value or \"done\" to exit.')\n",
    "        continue  # Skip the rest of the loop and start over with a new input\n",
    "        \n",
    "    # Add the value to the running total\n",
    "    total = total + value\n",
    "    \n",
    "    # Increment the count of numbers entered\n",
    "    count = count + 1\n",
    "\n",
    "# Check if no numbers were entered to avoid division by zero\n",
    "if count == 0:\n",
    "    print('No numbers entered.')\n",
    "else:\n",
    "    # Calculate the average by dividing the total by the count\n",
    "    average = total / count\n",
    "\n",
    "    # Print the calculated average\n",
    "    print('Average:', average)\n"
   ]
  },
  {
   "cell_type": "code",
   "execution_count": null,
   "id": "14cd0659",
   "metadata": {},
   "outputs": [],
   "source": [
    "#output\n",
    "Enter a number: 10\n",
    "Enter a number: 20\n",
    "Enter a number: 30\n",
    "Enter a number: done\n",
    "Average: 20.0\n"
   ]
  },
  {
   "cell_type": "code",
   "execution_count": null,
   "id": "c658e116",
   "metadata": {},
   "outputs": [],
   "source": [
    "# Create an empty list to store numbers\n",
    "numlist = list()\n",
    "\n",
    "# Start an infinite loop\n",
    "while True:\n",
    "    # Prompt the user to enter a number\n",
    "    inp = input('Enter a number: ')\n",
    "    \n",
    "    # Check if the user entered 'done'; if so, exit the loop\n",
    "    if inp == 'done':\n",
    "        break\n",
    "    \n",
    "    # Convert the input to a float (assuming valid numeric input)\n",
    "    value = float(inp)\n",
    "    \n",
    "    # Append the value to the 'numlist' list\n",
    "    numlist.append(value)\n",
    "    \n",
    "    # Calculate the average by summing all values in 'numlist' and dividing by the count\n",
    "    average = sum(numlist) / len(numlist)\n",
    "    \n",
    "    # Print the current average\n",
    "    print('Average:', average)\n",
    "\n",
    "# After the loop exits, the final average will be printed.\n",
    "print('Final Average:', average)"
   ]
  },
  {
   "cell_type": "code",
   "execution_count": null,
   "id": "c92c4635",
   "metadata": {},
   "outputs": [],
   "source": [
    "#output\n",
    "Enter a number: 5\n",
    "Average: 5.0\n",
    "Enter a number: 10\n",
    "Average: 7.5\n",
    "Enter a number: 15\n",
    "Average: 10.0\n",
    "Enter a number: done\n",
    "Final Average: 10.0"
   ]
  },
  {
   "cell_type": "markdown",
   "id": "4e041c4f",
   "metadata": {},
   "source": [
    "# BF:String and List"
   ]
  },
  {
   "cell_type": "code",
   "execution_count": null,
   "id": "d3963a53",
   "metadata": {},
   "outputs": [],
   "source": [
    "# Define a string 'abc'\n",
    "abc = 'With three words'\n",
    "\n",
    "# Use the 'split()' method to split the string into a list of words\n",
    "# The default behavior is to split the string at whitespace.\n",
    "stuff = abc.split()\n",
    "\n",
    "# Print the resulting list 'stuff'\n",
    "# The list contains three words: ['With', 'three', 'words']\n",
    "print(stuff)\n",
    "# Output: ['With', 'three', 'words']\n",
    "\n",
    "# Print the length (number of elements) of the 'stuff' list\n",
    "# The list contains 3 elements (words).\n",
    "print(len(stuff))\n",
    "# Output: 3\n",
    "\n",
    "# Access and print the first word in the 'stuff' list (at index 0)\n",
    "print(stuff[0])\n",
    "# Output: With"
   ]
  },
  {
   "cell_type": "code",
   "execution_count": null,
   "id": "c7e7fc30",
   "metadata": {},
   "outputs": [],
   "source": [
    "#output\n",
    "abc = 'With three words'\n",
    "stuff = abc.split()\n",
    "print(stuff)  # Output: ['With', 'three', 'words']\n",
    "print(len(stuff))  # Output: 3\n",
    "print(stuff[0])  # Output: With\n"
   ]
  },
  {
   "cell_type": "code",
   "execution_count": null,
   "id": "d448c185",
   "metadata": {},
   "outputs": [],
   "source": [
    "# Define a string 'abc'\n",
    "abc = 'With three words'\n",
    "\n",
    "# Use the 'split()' method to split the string into a list of words\n",
    "# The default behavior is to split the string at whitespace.\n",
    "stuff = abc.split()\n",
    "\n",
    "# Print the resulting list 'stuff'\n",
    "# The list contains three words: ['With', 'three', 'words']\n",
    "print(stuff)\n",
    "# Output: ['With', 'three', 'words']\n",
    "\n",
    "# Use a 'for' loop to iterate through each word in the 'stuff' list and print them\n",
    "for w in stuff:\n",
    "    print(w)\n",
    "\n",
    "# Output:\n",
    "# With\n",
    "# three\n",
    "# words\n"
   ]
  },
  {
   "cell_type": "code",
   "execution_count": null,
   "id": "3cbec22b",
   "metadata": {},
   "outputs": [],
   "source": [
    "#output\n",
    "['With', 'three', 'words']\n",
    "With\n",
    "three\n",
    "words"
   ]
  },
  {
   "cell_type": "markdown",
   "id": "13d0b277",
   "metadata": {},
   "source": [
    "# Split"
   ]
  },
  {
   "cell_type": "code",
   "execution_count": null,
   "id": "952381d3",
   "metadata": {},
   "outputs": [],
   "source": [
    ">>> line = 'A lot of           spaces'\n",
    ">>> etc = line.split()\n",
    ">>> print(etc)\n",
    "['A', 'lot', 'of', 'spaces']\n",
    ">>>\n",
    ">>> line =\n",
    "'first;second;third'\n",
    ">>> thing = line.split()\n",
    ">>> print(thing)\n",
    "['first;second;third']\n",
    ">>> print(len(thing))\n",
    "1\n",
    ">>> thing = line.split(';')\n",
    ">>> print(thing)\n",
    "['first', 'second', 'third']\n",
    ">>> print(len(thing))\n",
    "3\n",
    ">>>"
   ]
  },
  {
   "cell_type": "code",
   "execution_count": null,
   "id": "80b38698",
   "metadata": {},
   "outputs": [],
   "source": [
    "#output\n",
    "['A', 'lot', 'of', 'spaces']\n",
    "['first;second;third']\n",
    "1\n",
    "['first', 'second', 'third']\n",
    "3\n"
   ]
  }
 ],
 "metadata": {
  "kernelspec": {
   "display_name": "Python 3 (ipykernel)",
   "language": "python",
   "name": "python3"
  },
  "language_info": {
   "codemirror_mode": {
    "name": "ipython",
    "version": 3
   },
   "file_extension": ".py",
   "mimetype": "text/x-python",
   "name": "python",
   "nbconvert_exporter": "python",
   "pygments_lexer": "ipython3",
   "version": "3.11.4"
  }
 },
 "nbformat": 4,
 "nbformat_minor": 5
}
