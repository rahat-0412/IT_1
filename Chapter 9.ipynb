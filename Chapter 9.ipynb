{
 "cells": [
  {
   "cell_type": "markdown",
   "id": "671ae7d9",
   "metadata": {},
   "source": [
    "# Dictionary"
   ]
  },
  {
   "cell_type": "code",
   "execution_count": 1,
   "id": "f898205a",
   "metadata": {},
   "outputs": [
    {
     "name": "stdout",
     "output_type": "stream",
     "text": [
      "{'money': 12, 'candy': 3, 'tissues': 75}\n",
      "3\n",
      "{'money': 12, 'candy': 5, 'tissues': 75}\n"
     ]
    }
   ],
   "source": [
    "# Create an empty dictionary named 'purse'\n",
    "purse = dict()\n",
    "\n",
    "# Add key-value pairs to the 'purse' dictionary\n",
    "purse['money'] = 12  # Key 'money' with a value of 12\n",
    "purse['candy'] = 3   # Key 'candy' with a value of 3\n",
    "purse['tissues'] = 75  # Key 'tissues' with a value of 75\n",
    "\n",
    "# Print the 'purse' dictionary\n",
    "print(purse)\n",
    "# Output: {'money': 12, 'tissues': 75, 'candy': 3}\n",
    "\n",
    "# Access and print the value associated with the 'candy' key\n",
    "print(purse['candy'])\n",
    "# Output: 3\n",
    "\n",
    "# Update the value associated with the 'candy' key by adding 2 to it\n",
    "purse['candy'] = purse['candy'] + 2\n",
    "\n",
    "# Print the updated 'purse' dictionary\n",
    "print(purse)\n",
    "# Output: {'money': 12, 'tissues': 75, 'candy': 5}\n"
   ]
  },
  {
   "cell_type": "markdown",
   "id": "d7c0a2ed",
   "metadata": {},
   "source": [
    "# Comparing List and Dictionary"
   ]
  },
  {
   "cell_type": "code",
   "execution_count": 2,
   "id": "b6882141",
   "metadata": {},
   "outputs": [
    {
     "name": "stdout",
     "output_type": "stream",
     "text": [
      "[21, 183]\n",
      "[23, 183]\n"
     ]
    }
   ],
   "source": [
    "# Create an empty list named 'lst'\n",
    "lst = list()\n",
    "\n",
    "# Append the integer 21 to the 'lst' list\n",
    "lst.append(21)\n",
    "\n",
    "# Append the integer 183 to the 'lst' list\n",
    "lst.append(183)\n",
    "\n",
    "# Print the 'lst' list\n",
    "print(lst)\n",
    "# Output: [21, 183]\n",
    "\n",
    "# Update the value at index 0 of the 'lst' list to 23\n",
    "lst[0] = 23\n",
    "\n",
    "# Print the updated 'lst' list\n",
    "print(lst)\n",
    "# Output: [23, 183]\n"
   ]
  },
  {
   "cell_type": "code",
   "execution_count": 3,
   "id": "443bac76",
   "metadata": {},
   "outputs": [
    {
     "name": "stdout",
     "output_type": "stream",
     "text": [
      "{'age': 21, 'course': 182}\n",
      "{'age': 23, 'course': 182}\n"
     ]
    }
   ],
   "source": [
    "# Create an empty dictionary named 'ddd'\n",
    "ddd = dict()\n",
    "\n",
    "# Add a key-value pair 'age': 21 to the 'ddd' dictionary\n",
    "ddd['age'] = 21\n",
    "\n",
    "# Add a key-value pair 'course': 182 to the 'ddd' dictionary\n",
    "ddd['course'] = 182\n",
    "\n",
    "# Print the 'ddd' dictionary\n",
    "print(ddd)\n",
    "# Output: {'course': 182, 'age': 21}\n",
    "\n",
    "# Update the value associated with the 'age' key to 23\n",
    "ddd['age'] = 23\n",
    "\n",
    "# Print the updated 'ddd' dictionary\n",
    "print(ddd)\n",
    "# Output: {'course': 182, 'age': 23}\n"
   ]
  },
  {
   "cell_type": "markdown",
   "id": "56f1db70",
   "metadata": {},
   "source": [
    "# Dictionary Literals"
   ]
  },
  {
   "cell_type": "code",
   "execution_count": 4,
   "id": "4d37cb20",
   "metadata": {},
   "outputs": [
    {
     "name": "stdout",
     "output_type": "stream",
     "text": [
      "{'chuck': 1, 'fred': 42, 'jan': 100}\n",
      "{}\n"
     ]
    }
   ],
   "source": [
    "# Create a dictionary 'jjj' with three key-value pairs\n",
    "jjj = {'chuck': 1, 'fred': 42, 'jan': 100}\n",
    "\n",
    "# Print the 'jjj' dictionary\n",
    "print(jjj)\n",
    "# Output: {'jan': 100, 'chuck': 1, 'fred': 42}\n",
    "\n",
    "# Create an empty dictionary 'ooo'\n",
    "ooo = {}\n",
    "\n",
    "# Print the 'ooo' dictionary\n",
    "print(ooo)\n",
    "# Output: {}\n"
   ]
  },
  {
   "cell_type": "markdown",
   "id": "2846746d",
   "metadata": {},
   "source": [
    "# Counting"
   ]
  },
  {
   "cell_type": "code",
   "execution_count": 5,
   "id": "ecc77c90",
   "metadata": {},
   "outputs": [
    {
     "name": "stdout",
     "output_type": "stream",
     "text": [
      "{'csev': 1, 'cwen': 1}\n",
      "{'csev': 1, 'cwen': 2}\n"
     ]
    }
   ],
   "source": [
    "# Create an empty dictionary 'ccc'\n",
    "ccc = dict()\n",
    "\n",
    "# Add a key-value pair 'csev': 1 to the 'ccc' dictionary\n",
    "ccc['csev'] = 1\n",
    "\n",
    "# Add a key-value pair 'cwen': 1 to the 'ccc' dictionary\n",
    "ccc['cwen'] = 1\n",
    "\n",
    "# Print the 'ccc' dictionary\n",
    "print(ccc)\n",
    "# Output: {'csev': 1, 'cwen': 1}\n",
    "\n",
    "# Increment the value associated with the 'cwen' key by 1\n",
    "ccc['cwen'] = ccc['cwen'] + 1\n",
    "\n",
    "# Print the updated 'ccc' dictionary\n",
    "print(ccc)\n",
    "# Output: {'csev': 1, 'cwen': 2}\n"
   ]
  },
  {
   "cell_type": "markdown",
   "id": "040691e9",
   "metadata": {},
   "source": [
    "# Tracebacks"
   ]
  },
  {
   "cell_type": "code",
   "execution_count": 6,
   "id": "e62a9f2d",
   "metadata": {},
   "outputs": [
    {
     "ename": "KeyError",
     "evalue": "'csev'",
     "output_type": "error",
     "traceback": [
      "\u001b[1;31m---------------------------------------------------------------------------\u001b[0m",
      "\u001b[1;31mKeyError\u001b[0m                                  Traceback (most recent call last)",
      "Cell \u001b[1;32mIn[6], line 6\u001b[0m\n\u001b[0;32m      2\u001b[0m ccc \u001b[38;5;241m=\u001b[39m \u001b[38;5;28mdict\u001b[39m()\n\u001b[0;32m      4\u001b[0m \u001b[38;5;66;03m# Try to print the value associated with the key 'csev' in the 'ccc' dictionary.\u001b[39;00m\n\u001b[0;32m      5\u001b[0m \u001b[38;5;66;03m# Since 'csev' is not a key in the dictionary, it raises a KeyError.\u001b[39;00m\n\u001b[1;32m----> 6\u001b[0m \u001b[38;5;28mprint\u001b[39m(ccc[\u001b[38;5;124m'\u001b[39m\u001b[38;5;124mcsev\u001b[39m\u001b[38;5;124m'\u001b[39m])\n\u001b[0;32m      7\u001b[0m \u001b[38;5;66;03m# Output: Traceback (most recent call last):\u001b[39;00m\n\u001b[0;32m      8\u001b[0m \u001b[38;5;66;03m# File \"<stdin>\", line 1, in <module>\u001b[39;00m\n\u001b[0;32m      9\u001b[0m \u001b[38;5;66;03m# KeyError: 'csev'\u001b[39;00m\n\u001b[0;32m     10\u001b[0m \n\u001b[0;32m     11\u001b[0m \u001b[38;5;66;03m# Check if the key 'csev' is in the 'ccc' dictionary\u001b[39;00m\n\u001b[0;32m     12\u001b[0m \u001b[38;5;66;03m# The result is False because 'csev' is not a key in the dictionary.\u001b[39;00m\n\u001b[0;32m     13\u001b[0m \u001b[38;5;124m'\u001b[39m\u001b[38;5;124mcsev\u001b[39m\u001b[38;5;124m'\u001b[39m \u001b[38;5;129;01min\u001b[39;00m ccc\n",
      "\u001b[1;31mKeyError\u001b[0m: 'csev'"
     ]
    }
   ],
   "source": [
    "# Create an empty dictionary 'ccc'\n",
    "ccc = dict()\n",
    "\n",
    "# Try to print the value associated with the key 'csev' in the 'ccc' dictionary.\n",
    "# Since 'csev' is not a key in the dictionary, it raises a KeyError.\n",
    "print(ccc['csev'])\n",
    "# Output: Traceback (most recent call last):\n",
    "# File \"<stdin>\", line 1, in <module>\n",
    "# KeyError: 'csev'\n",
    "\n",
    "# Check if the key 'csev' is in the 'ccc' dictionary\n",
    "# The result is False because 'csev' is not a key in the dictionary.\n",
    "'csev' in ccc\n",
    "# Output: False\n"
   ]
  },
  {
   "cell_type": "markdown",
   "id": "16d0e754",
   "metadata": {},
   "source": [
    "# Adding 1 Count"
   ]
  },
  {
   "cell_type": "code",
   "execution_count": 7,
   "id": "0839299c",
   "metadata": {},
   "outputs": [
    {
     "name": "stdout",
     "output_type": "stream",
     "text": [
      "{'csev': 2, 'cwen': 2, 'zqian': 1}\n"
     ]
    }
   ],
   "source": [
    "# Create an empty dictionary 'counts' to store name counts\n",
    "counts = dict()\n",
    "\n",
    "# Create a list of names\n",
    "names = ['csev', 'cwen', 'csev', 'zqian', 'cwen']\n",
    "\n",
    "# Iterate through each name in the 'names' list\n",
    "for name in names:\n",
    "    # Check if the name is not already a key in the 'counts' dictionary\n",
    "    if name not in counts:\n",
    "        # If not, initialize the count for this name to 1\n",
    "        counts[name] = 1\n",
    "    else:\n",
    "        # If the name is already a key, increment the count by 1\n",
    "        counts[name] = counts[name] + 1\n",
    "\n",
    "# Print the 'counts' dictionary, which shows the count of each name\n",
    "print(counts)\n"
   ]
  },
  {
   "cell_type": "markdown",
   "id": "8841d64d",
   "metadata": {},
   "source": [
    "# Get Method"
   ]
  },
  {
   "cell_type": "code",
   "execution_count": 8,
   "id": "9043f625",
   "metadata": {},
   "outputs": [
    {
     "name": "stdout",
     "output_type": "stream",
     "text": [
      "{'csev': 2, 'cwen': 2, 'zqian': 1}\n"
     ]
    }
   ],
   "source": [
    "# Create an empty dictionary 'counts' to store name counts\n",
    "counts = dict()\n",
    "\n",
    "# Create a list of names\n",
    "names = ['csev', 'cwen', 'csev', 'zqian', 'cwen']\n",
    "\n",
    "# Iterate through each name in the 'names' list\n",
    "for name in names:\n",
    "    # Use the get() method to retrieve the current count of the name.\n",
    "    # If the name doesn't exist in the dictionary, the default value is 0.\n",
    "    x = counts.get(name, 0)\n",
    "    \n",
    "    # Increment the count of the name by 1\n",
    "    x += 1\n",
    "    \n",
    "    # Update the count for the name in the 'counts' dictionary\n",
    "    counts[name] = x\n",
    "\n",
    "# Print the 'counts' dictionary, which shows the count of each name\n",
    "print(counts)\n"
   ]
  },
  {
   "cell_type": "markdown",
   "id": "b9002839",
   "metadata": {},
   "source": [
    "# Counting with Get"
   ]
  },
  {
   "cell_type": "code",
   "execution_count": 9,
   "id": "a54b4f7a",
   "metadata": {},
   "outputs": [
    {
     "name": "stdout",
     "output_type": "stream",
     "text": [
      "{'csev': 2, 'cwen': 2, 'zqian': 1}\n"
     ]
    }
   ],
   "source": [
    "# Create an empty dictionary 'counts' to store name counts\n",
    "counts = dict()\n",
    "\n",
    "# Create a list of names\n",
    "names = ['csev', 'cwen', 'csev', 'zqian', 'cwen']\n",
    "\n",
    "# Iterate through each name in the 'names' list\n",
    "for name in names:\n",
    "    # Use the get() method to retrieve the current count of the name.\n",
    "    # If the name doesn't exist in the dictionary, the default value is 0.\n",
    "    # Then, increment the count by 1 and update it in the 'counts' dictionary.\n",
    "    counts[name] = counts.get(name, 0) + 1\n",
    "\n",
    "# Print the 'counts' dictionary, which shows the count of each name\n",
    "print(counts)\n"
   ]
  },
  {
   "cell_type": "markdown",
   "id": "1bcb93da",
   "metadata": {},
   "source": [
    "# Counting words inText"
   ]
  },
  {
   "cell_type": "code",
   "execution_count": 10,
   "id": "adf67f8d",
   "metadata": {},
   "outputs": [
    {
     "name": "stdout",
     "output_type": "stream",
     "text": [
      "Enter a line of text:\n",
      "My name is Rahat Mujeeb.\n",
      "Words: ['My', 'name', 'is', 'Rahat', 'Mujeeb.']\n",
      "Counting...\n",
      "Counts {'My': 1, 'name': 1, 'is': 1, 'Rahat': 1, 'Mujeeb.': 1}\n"
     ]
    }
   ],
   "source": [
    "# Create an empty dictionary 'counts' to store word counts\n",
    "counts = dict()\n",
    "\n",
    "# Prompt the user to enter a line of text\n",
    "print('Enter a line of text:')\n",
    "line = input('')\n",
    "\n",
    "# Split the input line into words using whitespace as the default delimiter\n",
    "words = line.split()\n",
    "\n",
    "# Print the list of words in the input line\n",
    "print('Words:', words)\n",
    "\n",
    "# Initialize a message to indicate the counting process\n",
    "print('Counting...')\n",
    "\n",
    "# Iterate through each word in the 'words' list\n",
    "for word in words:\n",
    "    # Use the get() method to retrieve the current count of the word.\n",
    "    # If the word doesn't exist in the dictionary, the default value is 0.\n",
    "    # Then, increment the count by 1 and update it in the 'counts' dictionary.\n",
    "    counts[word] = counts.get(word, 0) + 1\n",
    "\n",
    "# Print the 'counts' dictionary, which shows the count of each word\n",
    "print('Counts', counts)\n"
   ]
  },
  {
   "cell_type": "code",
   "execution_count": null,
   "id": "f6ccbd8c",
   "metadata": {},
   "outputs": [],
   "source": [
    "# Create an empty dictionary 'counts' to store word counts\n",
    "counts = dict()\n",
    "\n",
    "# Prompt the user to enter a line of text\n",
    "line = input('Enter a line of text:')\n",
    "\n",
    "# Split the input line into words using whitespace as the default delimiter\n",
    "words = line.split()\n",
    "\n",
    "# Print the list of words in the input line\n",
    "print('Words:', words)\n",
    "\n",
    "# Initialize a message to indicate the counting process (correcting the typo)\n",
    "print('Counting...')\n",
    "\n",
    "# Iterate through each word in the 'words' list\n",
    "for word in words:\n",
    "    # Use the get() method to retrieve the current count of the word.\n",
    "    # If the word doesn't exist in the dictionary, the default value is 0.\n",
    "    # Then, increment the count by 1 and update it in the 'counts' dictionary.\n",
    "    counts[word] = counts.get(word, 0) + 1\n",
    "\n",
    "# Print the 'counts' dictionary, which shows the count of each word\n",
    "print('Counts', counts)\n"
   ]
  },
  {
   "cell_type": "markdown",
   "id": "a490f3bd",
   "metadata": {},
   "source": [
    "# Definite Loops and Dictionaries"
   ]
  },
  {
   "cell_type": "code",
   "execution_count": 12,
   "id": "8f5686b6",
   "metadata": {},
   "outputs": [
    {
     "name": "stdout",
     "output_type": "stream",
     "text": [
      "chuck 1\n",
      "fred 42\n",
      "jan 100\n"
     ]
    }
   ],
   "source": [
    "# Create a dictionary 'counts' with three key-value pairs\n",
    "counts = {'chuck': 1, 'fred': 42, 'jan': 100}\n",
    "\n",
    "# Iterate through the keys in the 'counts' dictionary\n",
    "for key in counts:\n",
    "    # Print each key and its corresponding value\n",
    "    print(key, counts[key])\n"
   ]
  },
  {
   "cell_type": "markdown",
   "id": "bd5fb184",
   "metadata": {},
   "source": [
    "# Retrieving Lists of Keys and Values"
   ]
  },
  {
   "cell_type": "code",
   "execution_count": 13,
   "id": "c2b63910",
   "metadata": {},
   "outputs": [
    {
     "name": "stdout",
     "output_type": "stream",
     "text": [
      "['chuck', 'fred', 'jan']\n",
      "dict_keys(['chuck', 'fred', 'jan'])\n",
      "dict_values([1, 42, 100])\n",
      "dict_items([('chuck', 1), ('fred', 42), ('jan', 100)])\n"
     ]
    }
   ],
   "source": [
    "# Create a dictionary 'jjj' with three key-value pairs\n",
    "jjj = {'chuck': 1, 'fred': 42, 'jan': 100}\n",
    "\n",
    "# Print the keys of the 'jjj' dictionary as a list\n",
    "print(list(jjj))\n",
    "# Output: ['jan', 'chuck', 'fred']\n",
    "\n",
    "# Print the keys of the 'jjj' dictionary using the keys() method\n",
    "print(jjj.keys())\n",
    "# Output: ['jan', 'chuck', 'fred']\n",
    "\n",
    "# Print the values of the 'jjj' dictionary using the values() method\n",
    "print(jjj.values())\n",
    "# Output: [100, 1, 42]\n",
    "\n",
    "# Print the key-value pairs (items) of the 'jjj' dictionary using the items() method\n",
    "print(jjj.items())\n",
    "# Output: [('jan', 100), ('chuck', 1), ('fred', 42)]\n"
   ]
  },
  {
   "cell_type": "markdown",
   "id": "f12a54a7",
   "metadata": {},
   "source": [
    "# Two iterations Variables"
   ]
  },
  {
   "cell_type": "code",
   "execution_count": 14,
   "id": "0bb4215f",
   "metadata": {},
   "outputs": [
    {
     "name": "stdout",
     "output_type": "stream",
     "text": [
      "chuck 1\n",
      "fred 42\n",
      "jan 100\n"
     ]
    }
   ],
   "source": [
    "# Create a dictionary 'jjj' with three key-value pairs\n",
    "jjj = {'chuck': 1, 'fred': 42, 'jan': 100}\n",
    "\n",
    "# Iterate through the items (key-value pairs) of the 'jjj' dictionary\n",
    "for aaa, bbb in jjj.items():\n",
    "    # Print each key (aaa) and its corresponding value (bbb)\n",
    "    print(aaa, bbb)\n"
   ]
  }
 ],
 "metadata": {
  "kernelspec": {
   "display_name": "Python 3 (ipykernel)",
   "language": "python",
   "name": "python3"
  },
  "language_info": {
   "codemirror_mode": {
    "name": "ipython",
    "version": 3
   },
   "file_extension": ".py",
   "mimetype": "text/x-python",
   "name": "python",
   "nbconvert_exporter": "python",
   "pygments_lexer": "ipython3",
   "version": "3.11.4"
  }
 },
 "nbformat": 4,
 "nbformat_minor": 5
}
